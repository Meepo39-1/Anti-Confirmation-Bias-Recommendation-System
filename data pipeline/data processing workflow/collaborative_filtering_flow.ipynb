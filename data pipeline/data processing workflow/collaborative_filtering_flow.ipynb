{
 "cells": [
  {
   "cell_type": "markdown",
   "metadata": {},
   "source": [
    "# Collaborative Filtering"
   ]
  },
  {
   "cell_type": "markdown",
   "metadata": {},
   "source": [
    "## Load data"
   ]
  },
  {
   "cell_type": "code",
   "execution_count": 8,
   "metadata": {},
   "outputs": [
    {
     "name": "stdout",
     "output_type": "stream",
     "text": [
      "293 users\n",
      "2995 rated resources from initially 3727 loaded resources\n",
      "6052 interactions\n",
      "feedback matrix is 0.6896591019161629% populated\n"
     ]
    }
   ],
   "source": [
    "import data_processing\n",
    "\n",
    "\n",
    "data_processing.load_resources_from_raw_delta_logs(min_num_interactions=6)\n",
    "data_processing.load_users(min_num_interactions=10)\n",
    "users,resources,ratings,num_interactions = data_processing.compute_ratings()"
   ]
  },
  {
   "cell_type": "markdown",
   "metadata": {},
   "source": [
    "## Fit model"
   ]
  },
  {
   "cell_type": "code",
   "execution_count": 11,
   "metadata": {},
   "outputs": [
    {
     "name": "stdout",
     "output_type": "stream",
     "text": [
      "Root-mean-square error = 0.018678266517322833\n"
     ]
    }
   ],
   "source": [
    "\n",
    "def compute_matrix_factorization():\n",
    "    \n",
    "    '''\n",
    "        Aproximate data_processing_session/ratings file with pyspark framework, using ALS algo\n",
    "       \n",
    "        returns (ratings pyspark dataframe,model object,rmse aproximation score)\n",
    "    '''\n",
    "\n",
    "    from pyspark.sql import SparkSession\n",
    "    from pyspark.sql.functions import col \n",
    "    from pyspark.ml.evaluation import RegressionEvaluator\n",
    "    from pyspark.ml.recommendation import ALS\n",
    "    from pyspark.sql import Row\n",
    "    import os\n",
    "    import sys\n",
    "\n",
    "    \n",
    "    # uncomment these in case you have problems with environment variables\n",
    "    # os.environ['PYSPARK_PYTHON'] = sys.executable\n",
    "    # os.environ['PYSPARK_DRIVER_PYTHON'] = sys.executable\n",
    "\n",
    "    #initialize spark\n",
    "    import findspark\n",
    "    findspark.init()\n",
    "\n",
    "    spark = SparkSession.builder.appName(\"Collaborative Filtering Flow\").getOrCreate()\n",
    "\n",
    "    #preprocess ratings file into pyspark dataframe\n",
    "    path = os.path.join('data processing session','extracted_ratings')\n",
    "    lines = spark.read.text(path).rdd\n",
    "\n",
    "    parts = lines.map(lambda row: row.value.split(\" \"))\n",
    "    ratingsRDD = parts.map(lambda p: Row(userId=int(p[0]), postId=int(p[1]),\n",
    "                                        rating=float(p[2]) ))\n",
    "\n",
    "\n",
    "    ratings = spark.createDataFrame(ratingsRDD)\n",
    "\n",
    "    (training, test) = ratings, ratings\n",
    "\n",
    "    # # Build the recommendation model using ALS on the training data\n",
    "    # # Note we set cold start strategy to 'drop' to ensure we don't get NaN evaluation metrics\n",
    "    als = ALS(maxIter=5, regParam=0.01, userCol=\"userId\", itemCol=\"postId\", ratingCol=\"rating\",\n",
    "            coldStartStrategy=\"drop\")\n",
    "    model = als.fit(training)\n",
    "\n",
    "    # # Evaluate the model by computing the RMSE on the test (in this case also train) data\n",
    "    predictions = model.transform(test)\n",
    "    evaluator = RegressionEvaluator(metricName=\"rmse\", labelCol=\"rating\",\n",
    "                                    predictionCol=\"prediction\")\n",
    "    rmse = evaluator.evaluate(predictions)\n",
    "    print(\"Root-mean-square error = \" + str(rmse))\n",
    "    return (ratings,model,rmse)\n",
    "\n",
    "ratingsPysparkDf,model,rmse = compute_matrix_factorization()"
   ]
  },
  {
   "cell_type": "markdown",
   "metadata": {},
   "source": [
    "## Extract resources relevant to the latent factors"
   ]
  },
  {
   "cell_type": "code",
   "execution_count": 12,
   "metadata": {},
   "outputs": [],
   "source": [
    "def extract_baseline_posts(model,cached=True):\n",
    "\n",
    "    '''\n",
    "        Extracts and returns baseline posts for solving cold start problem \n",
    "         \n",
    "        based on top posts for every latent factor of the model\n",
    "        \n",
    "        or return hardcoded posts\n",
    "        \n",
    "    '''\n",
    "\n",
    "    import data_processing\n",
    "\n",
    "    #these hardcoded posts are extracted by taking the top 10 posts from every latent score of the model\n",
    "    #and picking the ones that have a functional link/a novel topic\n",
    "    titles =[\n",
    "        \"Infidelity should not happen when divorce is possible\",\n",
    "         \"The default world lingua franca should be Spanish\",\n",
    "         \"Buying clothes or goods from factories in the developing world is moral, eve...\",\n",
    "         \"The legal owner of a firearm should be responsible for the weapon and anythi...\",\n",
    "         \"Airport security screenings do very little to stop deliberate terrorism such as the attacks of 9/11. They are a show put on to make passengers think something is being done.\",\n",
    "         \"Luxury watches are useless in the practical sense\",\n",
    "         \"The concept of an omniscient (*) and capable creator is not compatible with ...\",\n",
    "         \"If whatever makes your character different (sexual identity/disability etc) ...\",\n",
    "         \"Cutlery should be placed at the end of a buffet line\",\n",
    "         \"If an animal has a big enough population, hunting of it should be allowed\"\n",
    "]\n",
    "    \n",
    "    if cached:\n",
    "        baseline_posts = []\n",
    "        for title in titles:\n",
    "            #print(title)\n",
    "            id = data_processing.res_id[title]\n",
    "            #print(id)\n",
    "            baseline_posts.append(data_processing.get_resource_info(id))\n",
    "        return baseline_posts\n",
    "    else:    \n",
    "        '''After advisor approval, these posts shall be hardcoded '''\n",
    "\n",
    "        from pyspark.sql.functions import expr\n",
    "\n",
    "        # Extract item factors\n",
    "        item_factors = model.itemFactors\n",
    "\n",
    "        # Find the top 5 highest scores for each latent factor\n",
    "        num_factors = model.rank  # Number of latent factors\n",
    "        top_scores_per_factor = []\n",
    "\n",
    "        for i in range(num_factors):\n",
    "            factor_col = expr(f\"features[{i}]\")\n",
    "            top_rows = (item_factors\n",
    "                        .select(\"id\", factor_col.alias(\"factor\"))\n",
    "                        .orderBy(\"factor\", ascending=False)\n",
    "                        .limit(10)\n",
    "                        .collect())\n",
    "            top_scores_per_factor.append((i, [(row.id, row.factor) for row in top_rows]))\n",
    "\n",
    "        #for the final version, the resources will be predefined, to ensure that the reddit posts links are not deprecated\n",
    "        baseline_posts = []\n",
    "        for factor, top_scores in top_scores_per_factor:\n",
    "            for rank, (post_id, factor_score) in enumerate(top_scores, start=1):\n",
    "                if rank ==1:\n",
    "                    baseline_posts.append({'id':post_id,'score':factor_score,'content':data_processing.id_res[post_id]})\n",
    "                print(f'title:{data_processing.id_res[post_id][\"title\"]},url:{data_processing.id_res[post_id][\"url\"]},factor {factor},score:{factor_score}')\n",
    "            print(\"-\"*100)\n",
    "        return baseline_posts\n",
    "\n",
    "baseline_posts = extract_baseline_posts(model,cached=True)"
   ]
  },
  {
   "cell_type": "code",
   "execution_count": 13,
   "metadata": {},
   "outputs": [
    {
     "name": "stdout",
     "output_type": "stream",
     "text": [
      "{'title': 'Infidelity should not happen when divorce is possible', 'pos_feedback': ['Nitrousoxide72', 'RedditExplorer89'], 'neg_feedback': ['ripcelinedionhusband', 'Melodic_Echidna', 'joopface', 'dublea', 'ripcelinedionhusband', 'WelfareBear', 'JimboMan1234', '', 'muyamable', 'Nephisimian', 'USoverthem'], 'url': 'https://www.reddit.com//r/changemyview/comments/imh6iw/cmv_infidelity_should_not_happen_when_divorce_is/'}\n"
     ]
    }
   ],
   "source": [
    "#example of a post object content\n",
    "print(baseline_posts[0])"
   ]
  },
  {
   "cell_type": "code",
   "execution_count": 14,
   "metadata": {},
   "outputs": [
    {
     "name": "stdout",
     "output_type": "stream",
     "text": [
      "10 [{'title': 'Infidelity should not happen when divorce is possible', 'pos_feedback': ['Nitrousoxide72', 'RedditExplorer89'], 'neg_feedback': ['ripcelinedionhusband', 'Melodic_Echidna', 'joopface', 'dublea', 'ripcelinedionhusband', 'WelfareBear', 'JimboMan1234', '', 'muyamable', 'Nephisimian', 'USoverthem'], 'url': 'https://www.reddit.com//r/changemyview/comments/imh6iw/cmv_infidelity_should_not_happen_when_divorce_is/'}, {'title': 'The default world lingua franca should be Spanish', 'pos_feedback': ['NicholasLeo', 'BrotherItsInTheDrum'], 'neg_feedback': ['Igor_Furman', 'muyamable', '', 'MontiBurns', '', 'parentheticalobject'], 'url': 'https://www.reddit.com//r/changemyview/comments/hf49v5/cmv_the_default_world_lingua_franca_should_be/'}, {'title': 'Buying clothes or goods from factories in the developing world is moral, eve...', 'pos_feedback': ['mr-logician', 'thedobya'], 'neg_feedback': ['AnythingApplied', 'AnythingApplied', 'MercurianAspirations', 'StellaAthena'], 'url': 'https://www.reddit.com//r/changemyview/comments/dwebfc/cmv_buying_clothes_or_goods_from_factories_in_the/'}, {'title': 'The legal owner of a firearm should be responsible for the weapon and anythi...', 'pos_feedback': ['BoredRedhead'], 'neg_feedback': ['Missing_Links', 'Fanfic_Galore', 'BoyMeetsTheWorld', 'MechanicalEngineEar', 'Servant-Ruler', 'Lilah_R', 'VoodooManchester', 'DBDude', 'NastyNNaughty69', '', '600062'], 'url': 'https://www.reddit.com//r/changemyview/comments/i4f917/cmv_the_legal_owner_of_a_firearm_should_be/'}, {'title': 'Airport security screenings do very little to stop deliberate terrorism such as the attacks of 9/11. They are a show put on to make passengers think something is being done.', 'pos_feedback': ['TheloniusMusk', 'florencenightinjale'], 'neg_feedback': ['hacksoncode', 'MyUsernameIsJudge', '', 'Ansuz07', 'thisisnotariot', '', 'apparentlyapparent'], 'url': 'https://www.reddit.com/r/changemyview/comments/8a9r3h/cmv_airport_security_screenings_do_very_little_to/'}, {'title': 'Luxury watches are useless in the practical sense', 'pos_feedback': ['Crayshack', 'avatarlegend12345'], 'neg_feedback': ['KDY_ISD', 'KDY_ISD', 'HallucinatoryWalnut', 'a_sack_of_hamsters'], 'url': 'https://www.reddit.com//r/changemyview/comments/bvupnz/cmv_luxury_watches_are_useless_in_the_practical/'}, {'title': 'The concept of an omniscient (*) and capable creator is not compatible with ...', 'pos_feedback': ['Salty_Dornishman', 'PivotPsycho'], 'neg_feedback': ['badass_panda', 'JoZeHgS', 'wajubop', 'ButtonholePhotophile', 'MizunoGolfer15-20', 'NicholasLeo'], 'url': 'https://www.reddit.com//r/changemyview/comments/lbqam1/cmv_the_concept_of_an_omniscient_and_capable/'}, {'title': 'If whatever makes your character different (sexual identity/disability etc) ...', 'pos_feedback': ['GnosticGnome', 'doriangraiy'], 'neg_feedback': ['th3empirial', 'BeatriceBernardo', 'HazelGhost', 'adhd_energy_'], 'url': 'https://www.reddit.com//r/changemyview/comments/mu84wm/cmv_if_whatever_makes_your_character_different/'}, {'title': 'Cutlery should be placed at the end of a buffet line', 'pos_feedback': ['zfreakazoidz', 'Herbie_Fully_Loaded'], 'neg_feedback': ['ralph-j', 'dublea', '', 'ThinkingAboutJulia', 'erection_detection_', 'pawnman99', 'badass_panda'], 'url': 'https://www.reddit.com//r/changemyview/comments/n6y914/cmv_cutlery_should_be_placed_at_the_end_of_a/'}, {'title': 'If an animal has a big enough population, hunting of it should be allowed', 'pos_feedback': ['overhardeggs'], 'neg_feedback': ['GoblinRaiders', 'NowImAllSet', 'destro23', 'destro23', 'wantingtodobetter', 'drschwartz', '', 'hacksoncode'], 'url': 'https://www.reddit.com//r/changemyview/comments/w9hy6t/cmv_if_an_animal_has_a_big_enough_population/'}]\n"
     ]
    }
   ],
   "source": [
    "print(len(baseline_posts),baseline_posts)"
   ]
  },
  {
   "cell_type": "markdown",
   "metadata": {},
   "source": [
    "## Collect data for cold start problem"
   ]
  },
  {
   "cell_type": "code",
   "execution_count": 16,
   "metadata": {},
   "outputs": [
    {
     "name": "stdout",
     "output_type": "stream",
     "text": [
      "Title:Infidelity should not happen when divorce is possible\n",
      "url: https://www.reddit.com//r/changemyview/comments/imh6iw/cmv_infidelity_should_not_happen_when_divorce_is/\n",
      "Title:The default world lingua franca should be Spanish\n",
      "url: https://www.reddit.com//r/changemyview/comments/hf49v5/cmv_the_default_world_lingua_franca_should_be/\n",
      "Title:Buying clothes or goods from factories in the developing world is moral, eve...\n",
      "url: https://www.reddit.com//r/changemyview/comments/dwebfc/cmv_buying_clothes_or_goods_from_factories_in_the/\n",
      "Title:The legal owner of a firearm should be responsible for the weapon and anythi...\n",
      "url: https://www.reddit.com//r/changemyview/comments/i4f917/cmv_the_legal_owner_of_a_firearm_should_be/\n",
      "Title:Airport security screenings do very little to stop deliberate terrorism such as the attacks of 9/11. They are a show put on to make passengers think something is being done.\n",
      "url: https://www.reddit.com/r/changemyview/comments/8a9r3h/cmv_airport_security_screenings_do_very_little_to/\n",
      "Title:Luxury watches are useless in the practical sense\n",
      "url: https://www.reddit.com//r/changemyview/comments/bvupnz/cmv_luxury_watches_are_useless_in_the_practical/\n",
      "Title:The concept of an omniscient (*) and capable creator is not compatible with ...\n",
      "url: https://www.reddit.com//r/changemyview/comments/lbqam1/cmv_the_concept_of_an_omniscient_and_capable/\n",
      "Title:If whatever makes your character different (sexual identity/disability etc) ...\n",
      "url: https://www.reddit.com//r/changemyview/comments/mu84wm/cmv_if_whatever_makes_your_character_different/\n",
      "Title:Cutlery should be placed at the end of a buffet line\n",
      "url: https://www.reddit.com//r/changemyview/comments/n6y914/cmv_cutlery_should_be_placed_at_the_end_of_a/\n",
      "Title:If an animal has a big enough population, hunting of it should be allowed\n",
      "url: https://www.reddit.com//r/changemyview/comments/w9hy6t/cmv_if_an_animal_has_a_big_enough_population/\n"
     ]
    }
   ],
   "source": [
    "def init_cold_start(baseline_posts,cached=True):\n",
    "\n",
    "    '''\n",
    "    Feed user baseline posts and collect feedback in order to compute recommendations\n",
    "    '''\n",
    "\n",
    "    import data_processing\n",
    "\n",
    "    name = input(\"Please write your name:\")\n",
    "    description = \"Dummy description of the task\"\n",
    "\n",
    "    baseline_results =[]\n",
    "\n",
    "    if cached:\n",
    "        for res in baseline_posts:\n",
    "            print(f'Title:{res[\"title\"]}')\n",
    "            print(f'url: {res[\"url\"]}')\n",
    "            baseline_score = float(input('How much did this post make you see things trough a new perspective?:'))\n",
    "            baseline_results.append({'id':data_processing.res_id[res['title']],'user_score':baseline_score})\n",
    "        return (baseline_results,name)\n",
    "    else:\n",
    "        for baseline_post in baseline_posts:\n",
    "            res = baseline_post[\"content\"]\n",
    "            print(f'Title:{res[\"title\"]}')\n",
    "            print(f'url: {res[\"url\"]}')\n",
    "            baseline_score = float(input('How much did this post make you see things trough a new perspective?:'))\n",
    "            baseline_results.append({'id':baseline_post['id'],'factor_score':baseline_post['score'],'user_score':baseline_score})\n",
    "        return (baseline_results,name)\n",
    "\n",
    "\n",
    "baseline_results,name = init_cold_start(baseline_posts)"
   ]
  },
  {
   "cell_type": "markdown",
   "metadata": {},
   "source": [
    "## Fit the model with the new user's data"
   ]
  },
  {
   "cell_type": "code",
   "execution_count": 17,
   "metadata": {},
   "outputs": [
    {
     "name": "stdout",
     "output_type": "stream",
     "text": [
      "294\n"
     ]
    }
   ],
   "source": [
    "import os\n",
    "\n",
    "def add_new_user_ratings(baseline_results):\n",
    "\n",
    "    '''\n",
    "        Append user feedback to ratings file\n",
    "        \n",
    "    '''\n",
    "    ratings_path_file = os.path.join('data processing session','extracted_ratings')\n",
    "\n",
    "    ratings_file = open(ratings_path_file,'r')\n",
    "\n",
    "\n",
    "    for line in ratings_file:\n",
    "        last_line = line\n",
    "    last_line = last_line.split(\" \")\n",
    "    new_user_id = int(last_line[0]) + 1\n",
    "    print(new_user_id)\n",
    "    ratings_file.close()\n",
    "    ratings_file = open(ratings_path_file,'a')\n",
    "\n",
    "    for result in baseline_results:\n",
    "        #ratings_file.write()\n",
    "        res_id = result['id']\n",
    "        score = result['user_score']\n",
    "        ratings_file.write(f'{new_user_id} {res_id} {score}\\n')\n",
    "        #print(f'{new_user_id} {res_id} {score}\\n')\n",
    "    ratings_file.close()\n",
    "    return new_user_id\n",
    "user_id = add_new_user_ratings(baseline_results)"
   ]
  },
  {
   "cell_type": "code",
   "execution_count": 19,
   "metadata": {},
   "outputs": [
    {
     "name": "stdout",
     "output_type": "stream",
     "text": [
      "Root-mean-square error = 0.018717117442661333\n"
     ]
    }
   ],
   "source": [
    "ratingsPysparkDf,model,rmse = compute_matrix_factorization()"
   ]
  },
  {
   "cell_type": "markdown",
   "metadata": {},
   "source": [
    "## Make recommendations for the new user based on matrix factorization"
   ]
  },
  {
   "cell_type": "markdown",
   "metadata": {},
   "source": [
    "### Extract ids of already rated posts by user"
   ]
  },
  {
   "cell_type": "code",
   "execution_count": 21,
   "metadata": {},
   "outputs": [],
   "source": [
    "def extract_posts_already_rated(ratings,user_id = 294):\n",
    "    from pyspark.sql.functions import col \n",
    "    user_ratings = ratings.filter(col(\"userId\") == 294).select(\"postId\").distinct()\n",
    "    posts_rated_by_user = set()\n",
    "\n",
    "    for post_id in user_ratings.toPandas().values:\n",
    "        posts_rated_by_user.add(post_id[0])\n",
    "\n",
    "    return posts_rated_by_user\n",
    "current_user_already_rated_posts = extract_posts_already_rated(ratingsPysparkDf)"
   ]
  },
  {
   "cell_type": "code",
   "execution_count": 11,
   "metadata": {},
   "outputs": [
    {
     "name": "stdout",
     "output_type": "stream",
     "text": [
      "+------+-------------------------------------------------------+\n",
      "|userId|recommendations                                        |\n",
      "+------+-------------------------------------------------------+\n",
      "|294   |[{344, 1.005191}, {1088, 1.0026215}, {2322, 1.0008016}]|\n",
      "+------+-------------------------------------------------------+\n",
      "\n"
     ]
    }
   ],
   "source": [
    "#This posts have already been rated by the user\n",
    "user_recommendations = model.recommendForAllUsers(3)\n",
    "user_recommendations.filter(user_recommendations.userId==294).show(truncate=False)"
   ]
  },
  {
   "cell_type": "code",
   "execution_count": 22,
   "metadata": {},
   "outputs": [
    {
     "name": "stdout",
     "output_type": "stream",
     "text": [
      "[{'post_id': 1688, 'prediction': 0.9327794313430786}, {'post_id': 3602, 'prediction': 0.8363574743270874}, {'post_id': 735, 'prediction': 0.8085615634918213}, {'post_id': 1713, 'prediction': 0.7815169095993042}, {'post_id': 2860, 'prediction': 0.7676966190338135}, {'post_id': 661, 'prediction': 0.7543203830718994}, {'post_id': 2110, 'prediction': 0.7425070405006409}, {'post_id': 2410, 'prediction': 0.6914209723472595}, {'post_id': 1214, 'prediction': 0.6531306505203247}, {'post_id': 2000, 'prediction': 0.6489737033843994}, {'post_id': 1468, 'prediction': 0.6381682753562927}, {'post_id': 1381, 'prediction': 0.6366795897483826}, {'post_id': 1623, 'prediction': 0.6358826160430908}, {'post_id': 3511, 'prediction': 0.6330591440200806}, {'post_id': 1459, 'prediction': 0.6318784952163696}]\n"
     ]
    }
   ],
   "source": [
    "from pyspark.sql.functions import col,lit\n",
    "\n",
    "def generate_matrix_factorization_recs(ratingsPysparkDf,user_id = 294,number_recs=15,similar=True):\n",
    "    \n",
    "    # Generate recommendations for a specific user\n",
    "    user_ratings = ratingsPysparkDf.filter(col(\"userId\") == user_id).select(\"postId\").distinct()\n",
    "    #user_ratings.show()\n",
    "    all_posts = ratingsPysparkDf.select(\"postId\").distinct()\n",
    "    posts_not_rated_by_user = all_posts.join(user_ratings, on=\"postId\", how=\"left_anti\")\n",
    "\n",
    "    #posts_not_rated_by_user.show()\n",
    "\n",
    "    # Recommend top number_recs posts\n",
    "    posts_not_rated_by_user = posts_not_rated_by_user.withColumn(\"userId\", lit(user_id))\n",
    "    recommendations = model.transform(posts_not_rated_by_user)\n",
    "    if similar:\n",
    "        top_recommendations = recommendations.orderBy(col(\"prediction\").desc()).select(\"postId\", \"prediction\").limit(number_recs)\n",
    "    else:\n",
    "        top_recommendations = recommendations.orderBy(col(\"prediction\")).select(\"postId\", \"prediction\").limit(number_recs)\n",
    "\n",
    "    #top_recommendations.show()\n",
    "\n",
    "\n",
    "    #extract them in a list\n",
    "    postIds = [p[0] for p in top_recommendations.select(\"postId\").toPandas().values.tolist()]\n",
    "    predictions = [p[0] for p in top_recommendations.select(\"prediction\").toPandas().values.tolist()]\n",
    "\n",
    "\n",
    "    matrix_factorization_predictions = []\n",
    "    for index in range(len(postIds)):\n",
    "        matrix_factorization_predictions.append({'post_id':postIds[index],'prediction':predictions[index]})\n",
    "    print(matrix_factorization_predictions)\n",
    "    return matrix_factorization_predictions\n",
    "\n",
    "matrix_factorization_predictions = generate_matrix_factorization_recs(ratingsPysparkDf,user_id = 294,similar=True)\n"
   ]
  },
  {
   "cell_type": "code",
   "execution_count": 23,
   "metadata": {},
   "outputs": [],
   "source": [
    "#Note:\n",
    "# after collecting user ratings, we will add them to the current_user_already_rated_posts set"
   ]
  },
  {
   "cell_type": "markdown",
   "metadata": {},
   "source": [
    "## Make recommendations for the new user based on similar and opposite users\n",
    "\n",
    "### Make recommendations based on similar users\n"
   ]
  },
  {
   "cell_type": "markdown",
   "metadata": {},
   "source": [
    "### Create similarity matrix of users"
   ]
  },
  {
   "cell_type": "code",
   "execution_count": 24,
   "metadata": {},
   "outputs": [
    {
     "name": "stdout",
     "output_type": "stream",
     "text": [
      "          2         3         4         5         6         7         8    \\\n",
      "2    1.000000  0.689224 -0.002478  0.364748  0.464495  0.091506  0.111115   \n",
      "3    0.689224  1.000000  0.315972  0.536956  0.228551 -0.020890  0.062861   \n",
      "4   -0.002478  0.315972  1.000000  0.290739  0.337977  0.019709  0.149715   \n",
      "5    0.364748  0.536956  0.290739  1.000000  0.158604  0.260201  0.126891   \n",
      "6    0.464495  0.228551  0.337977  0.158604  1.000000 -0.160172  0.307491   \n",
      "..        ...       ...       ...       ...       ...       ...       ...   \n",
      "290  0.238161  0.017078  0.179156  0.323665  0.369684  0.441151 -0.151274   \n",
      "291  0.346127  0.239607  0.538189 -0.038823  0.135164  0.420478  0.334786   \n",
      "292  0.221272  0.416876  0.171109  0.289792  0.238637  0.226735 -0.340302   \n",
      "293 -0.322204 -0.475196  0.338437 -0.268219  0.272247  0.090514 -0.271748   \n",
      "294  0.532317  0.381894 -0.032160 -0.175198 -0.037670  0.196692  0.381441   \n",
      "\n",
      "          9         10        11   ...       285       286       287  \\\n",
      "2   -0.300717  0.332979  0.548595  ...  0.331457  0.548401  0.172117   \n",
      "3   -0.079792  0.257739  0.337835  ...  0.232450  0.323257 -0.016660   \n",
      "4    0.232024  0.122867  0.155155  ...  0.375045  0.285018 -0.319448   \n",
      "5    0.339883  0.190633  0.496263  ...  0.475301 -0.103538 -0.064327   \n",
      "6    0.351870  0.282223  0.682120  ...  0.858733  0.531041  0.149686   \n",
      "..        ...       ...       ...  ...       ...       ...       ...   \n",
      "290 -0.121631  0.118701  0.016626  ...  0.244640 -0.156721  0.130295   \n",
      "291 -0.327009  0.190146 -0.023693  ...  0.010402  0.233023  0.256159   \n",
      "292 -0.232074  0.065452 -0.211604  ...  0.143749  0.041325  0.224261   \n",
      "293 -0.065899  0.047287 -0.255834  ...  0.040032 -0.035004 -0.170109   \n",
      "294 -0.283902 -0.129198  0.123786  ... -0.105137  0.255890  0.032216   \n",
      "\n",
      "          288       289       290       291       292       293       294  \n",
      "2   -0.070963  0.095002  0.238161  0.346127  0.221272 -0.322204  0.532317  \n",
      "3    0.270639  0.177049  0.017078  0.239607  0.416876 -0.475196  0.381894  \n",
      "4    0.473917  0.011400  0.179156  0.538189  0.171109  0.338437 -0.032160  \n",
      "5    0.101254  0.174541  0.323665 -0.038823  0.289792 -0.268219 -0.175198  \n",
      "6    0.270350  0.483827  0.369684  0.135164  0.238637  0.272247 -0.037670  \n",
      "..        ...       ...       ...       ...       ...       ...       ...  \n",
      "290 -0.237626  0.328077  1.000000  0.220406  0.605809  0.660368 -0.288871  \n",
      "291 -0.123227 -0.202364  0.220406  1.000000  0.037258  0.172401  0.469006  \n",
      "292  0.328634  0.585314  0.605809  0.037258  1.000000  0.271071 -0.288949  \n",
      "293 -0.055708  0.082536  0.660368  0.172401  0.271071  1.000000 -0.453389  \n",
      "294 -0.170515 -0.302672 -0.288871  0.469006 -0.288949 -0.453389  1.000000  \n",
      "\n",
      "[293 rows x 293 columns]\n"
     ]
    }
   ],
   "source": [
    "def compute_user_similarity_matrix(model):\n",
    "\n",
    "    \n",
    "    import pandas as pd\n",
    "    from sklearn.metrics.pairwise import cosine_similarity\n",
    "\n",
    "\n",
    "    # Extract user factors\n",
    "    user_factors = model.userFactors.orderBy('id')\n",
    "\n",
    "    # Convert to Pandas DataFrame\n",
    "    user_factors_pd = user_factors.toPandas()\n",
    "\n",
    "    # Create a matrix of user factors\n",
    "    user_ids = user_factors_pd['id'].values\n",
    "    user_features = pd.DataFrame(user_factors_pd['features'].tolist(), index=user_ids)\n",
    "\n",
    "    # Compute cosine similarity\n",
    "    similarity_matrix = cosine_similarity(user_features)\n",
    "\n",
    "    # Convert the similarity matrix to a DataFrame for easier interpretation\n",
    "    user_similarity_df = pd.DataFrame(similarity_matrix, index=user_ids, columns=user_ids)\n",
    "\n",
    "    print(user_similarity_df)\n",
    "    return user_similarity_df\n",
    "\n",
    "user_similarity_df = compute_user_similarity_matrix(model)"
   ]
  },
  {
   "cell_type": "code",
   "execution_count": 25,
   "metadata": {},
   "outputs": [
    {
     "data": {
      "text/plain": [
       "1.0"
      ]
     },
     "execution_count": 25,
     "metadata": {},
     "output_type": "execute_result"
    }
   ],
   "source": [
    "#example how to access the similarity between user with itself for  id 2 \n",
    "user_similarity_df.iloc[2][4]\n"
   ]
  },
  {
   "cell_type": "code",
   "execution_count": 27,
   "metadata": {},
   "outputs": [
    {
     "data": {
      "text/plain": [
       "1.0"
      ]
     },
     "execution_count": 27,
     "metadata": {},
     "output_type": "execute_result"
    }
   ],
   "source": [
    "user_similarity_df.iloc[292][294]"
   ]
  },
  {
   "cell_type": "markdown",
   "metadata": {},
   "source": [
    "### Extract similar and opposite users"
   ]
  },
  {
   "cell_type": "code",
   "execution_count": 28,
   "metadata": {},
   "outputs": [
    {
     "name": "stdout",
     "output_type": "stream",
     "text": [
      "Similar users of user with id: 294\n",
      "user id: 61,similarity score: 0.6957035138603461\n",
      "user id: 60,similarity score: 0.7540770037835002\n",
      "user id: 120,similarity score: 0.7710613628470725\n",
      "----------------------------------------------------------------------------------------------------\n",
      "Opposite users of user with id: 294\n",
      "user id: 203,similarity score: -0.7777278511934795\n",
      "user id: 37,similarity score: -0.6149076628818244\n",
      "user id: 247,similarity score: -0.6051832605515592\n",
      "--------------------------------------------------------------------------------------------------------------------------------------------------------------------------------------------------------\n",
      "[(120, 0.7710613628470725), (60, 0.7540770037835002), (61, 0.6957035138603461)]\n",
      "[(203, -0.7777278511934795), (37, -0.6149076628818244), (247, -0.6051832605515592)]\n"
     ]
    }
   ],
   "source": [
    "def extract_similar_and_opposite_users(user_similarity_df,interogated_user_id=294):\n",
    "\n",
    "    import numpy as np\n",
    "\n",
    "    #Note1: if you want to check if user ids are good, \n",
    "    #replace [-4:-1] with [-4:] and see if last user has a similarity score of aprox 1\n",
    "\n",
    "    #Note2: -2 and +2 comes from the fact that we use numpy methods for a pandas dataframe, \n",
    "    # dataframe row index starts from 0; column index from 2\n",
    "\n",
    "    user_similarity_scores_df =user_similarity_df.iloc[interogated_user_id-2]\n",
    "    similar_users = []\n",
    "\n",
    "    print(f'Similar users of user with id: {interogated_user_id}')\n",
    "\n",
    "    for id in np.argsort(user_similarity_scores_df)[-4:-1]:\n",
    "        user_id = id+2 #colum indexes start from 2 because lowest user_id value is 2\n",
    "        similarity_score = user_similarity_scores_df[user_id]\n",
    "\n",
    "        similar_users.append((user_id,similarity_score))\n",
    "        try:\n",
    "            print(f'user id: {user_id},similarity score: {similarity_score}')\n",
    "        except:\n",
    "            print(f'index error is {user_id} ')\n",
    "    \n",
    "    #reverse the list so that most similar user recs come first\n",
    "    similar_users.reverse()\n",
    "\n",
    "    print('-'*100)\n",
    "\n",
    "    opposite_users = []\n",
    "\n",
    "    print(f'Opposite users of user with id: {interogated_user_id}')\n",
    "    for id in np.argsort(user_similarity_scores_df)[:3]:\n",
    "        user_id = id+2\n",
    "        similarity_score = user_similarity_scores_df[user_id]\n",
    "        try:\n",
    "        \n",
    "            opposite_users.append((user_id,similarity_score))\n",
    "            print(f'user id: {user_id},similarity score: {similarity_score}')\n",
    "        except:\n",
    "            print(f'index error is {user_id} ')\n",
    "    print('-'*200)\n",
    "    print(similar_users)\n",
    "    print(opposite_users)\n",
    "\n",
    "    return (similar_users,opposite_users)\n",
    "\n",
    "similar_users,opposite_users = extract_similar_and_opposite_users(user_similarity_df)"
   ]
  },
  {
   "cell_type": "markdown",
   "metadata": {},
   "source": [
    "### Extract and filter recommendations based on similar and opposite users "
   ]
  },
  {
   "cell_type": "markdown",
   "metadata": {},
   "source": [
    "Similar users flow"
   ]
  },
  {
   "cell_type": "code",
   "execution_count": 29,
   "metadata": {},
   "outputs": [
    {
     "name": "stdout",
     "output_type": "stream",
     "text": [
      "user_id = 120\n",
      "similarity_score =0.7710613628470725\n",
      "[{'post_id': 1791, 'prediction': 1.022874116897583}, {'post_id': 3602, 'prediction': 0.9346370100975037}, {'post_id': 3145, 'prediction': 0.7468541860580444}, {'post_id': 1088, 'prediction': 0.7215915322303772}, {'post_id': 344, 'prediction': 0.6749767065048218}, {'post_id': 1909, 'prediction': 0.6694530248641968}, {'post_id': 3102, 'prediction': 0.6545191407203674}, {'post_id': 2322, 'prediction': 0.6522638201713562}, {'post_id': 1333, 'prediction': 0.6422619819641113}, {'post_id': 182, 'prediction': 0.6071485877037048}, {'post_id': 735, 'prediction': 0.6027434468269348}, {'post_id': 3555, 'prediction': 0.5821658968925476}, {'post_id': 1713, 'prediction': 0.5777302980422974}, {'post_id': 2119, 'prediction': 0.5575791597366333}, {'post_id': 3403, 'prediction': 0.5493278503417969}, {'post_id': 1398, 'prediction': 0.5472486019134521}, {'post_id': 2427, 'prediction': 0.5319478511810303}, {'post_id': 1555, 'prediction': 0.5315414667129517}, {'post_id': 1697, 'prediction': 0.5120941400527954}, {'post_id': 2000, 'prediction': 0.5087213516235352}, {'post_id': 1972, 'prediction': 0.5087063312530518}, {'post_id': 597, 'prediction': 0.5059443116188049}, {'post_id': 2546, 'prediction': 0.5015922784805298}, {'post_id': 1186, 'prediction': 0.498372346162796}, {'post_id': 3203, 'prediction': 0.493930459022522}, {'post_id': 445, 'prediction': 0.49289944767951965}, {'post_id': 1279, 'prediction': 0.4907028079032898}, {'post_id': 1459, 'prediction': 0.48923537135124207}, {'post_id': 3310, 'prediction': 0.4727477729320526}, {'post_id': 1101, 'prediction': 0.47262316942214966}]\n",
      "user_id = 60\n",
      "similarity_score =0.7540770037835002\n",
      "[{'post_id': 1791, 'prediction': 1.0955090522766113}, {'post_id': 3059, 'prediction': 1.008351445198059}, {'post_id': 735, 'prediction': 1.000096082687378}, {'post_id': 2493, 'prediction': 0.9108303189277649}, {'post_id': 1320, 'prediction': 0.8389936685562134}, {'post_id': 1971, 'prediction': 0.8359068632125854}, {'post_id': 1088, 'prediction': 0.8159979581832886}, {'post_id': 1909, 'prediction': 0.8075819611549377}, {'post_id': 3102, 'prediction': 0.7275493144989014}, {'post_id': 3510, 'prediction': 0.7049033641815186}, {'post_id': 2000, 'prediction': 0.6885635852813721}, {'post_id': 3487, 'prediction': 0.686860203742981}, {'post_id': 2168, 'prediction': 0.6832789182662964}, {'post_id': 1280, 'prediction': 0.6739580035209656}, {'post_id': 738, 'prediction': 0.6612446308135986}, {'post_id': 3555, 'prediction': 0.6505016684532166}, {'post_id': 3271, 'prediction': 0.6493396162986755}, {'post_id': 795, 'prediction': 0.6359779238700867}, {'post_id': 3511, 'prediction': 0.6309137344360352}, {'post_id': 1008, 'prediction': 0.6308274865150452}, {'post_id': 2860, 'prediction': 0.6131584048271179}, {'post_id': 3618, 'prediction': 0.6107531785964966}, {'post_id': 2427, 'prediction': 0.5920671224594116}, {'post_id': 1790, 'prediction': 0.585837721824646}, {'post_id': 1530, 'prediction': 0.5854352712631226}, {'post_id': 1381, 'prediction': 0.5732824802398682}, {'post_id': 1713, 'prediction': 0.5558485388755798}, {'post_id': 613, 'prediction': 0.5497983694076538}, {'post_id': 1477, 'prediction': 0.5477834939956665}, {'post_id': 2756, 'prediction': 0.5473379492759705}]\n",
      "user_id = 61\n",
      "similarity_score =0.6957035138603461\n",
      "[{'post_id': 3373, 'prediction': 0.7599270343780518}, {'post_id': 344, 'prediction': 0.7444522976875305}, {'post_id': 2459, 'prediction': 0.6940724849700928}, {'post_id': 1214, 'prediction': 0.6799325346946716}, {'post_id': 3102, 'prediction': 0.6668419241905212}, {'post_id': 2907, 'prediction': 0.6667115092277527}, {'post_id': 1909, 'prediction': 0.6477599143981934}, {'post_id': 1791, 'prediction': 0.6468115448951721}, {'post_id': 1088, 'prediction': 0.6404109597206116}, {'post_id': 1280, 'prediction': 0.6398313641548157}, {'post_id': 3232, 'prediction': 0.6351328492164612}, {'post_id': 1873, 'prediction': 0.6158697009086609}, {'post_id': 2342, 'prediction': 0.5711537599563599}, {'post_id': 2322, 'prediction': 0.5621110200881958}, {'post_id': 2992, 'prediction': 0.5617979764938354}, {'post_id': 507, 'prediction': 0.5480148196220398}, {'post_id': 1383, 'prediction': 0.5335677266120911}, {'post_id': 735, 'prediction': 0.5174523591995239}, {'post_id': 3055, 'prediction': 0.5100736021995544}, {'post_id': 1205, 'prediction': 0.49407732486724854}, {'post_id': 1435, 'prediction': 0.4940768778324127}, {'post_id': 2110, 'prediction': 0.4928767681121826}, {'post_id': 2026, 'prediction': 0.48351994156837463}, {'post_id': 628, 'prediction': 0.4828571379184723}, {'post_id': 661, 'prediction': 0.47585195302963257}, {'post_id': 135, 'prediction': 0.47474008798599243}, {'post_id': 1015, 'prediction': 0.4735792279243469}, {'post_id': 3634, 'prediction': 0.4728502333164215}, {'post_id': 3099, 'prediction': 0.4726833701133728}, {'post_id': 1008, 'prediction': 0.4704202115535736}]\n"
     ]
    }
   ],
   "source": [
    "def generate_sim_recs(ratings_file, baseline_users,current_user_already_rated_posts,num_recs = 30,similar=True):\n",
    "\n",
    "    \n",
    "    num_users = len(baseline_users)\n",
    "    for index in range(num_users):\n",
    "        sim_user_id,similarity_score = baseline_users[index]\n",
    "\n",
    "        print(f'user_id = {sim_user_id}')\n",
    "        print(f'similarity_score ={similarity_score}')\n",
    "\n",
    "        sim_user_recs = generate_matrix_factorization_recs(ratings_file,user_id=sim_user_id,number_recs=num_recs,similar=similar)\n",
    "        current_user_recs = []\n",
    "        for sim_user_rec_struct in sim_user_recs:\n",
    "\n",
    "            if sim_user_rec_struct['post_id'] in current_user_already_rated_posts:\n",
    "                #print('found already rated post')\n",
    "                continue\n",
    "            else:\n",
    "                current_user_rec = {'post_id':sim_user_rec_struct['post_id'],\n",
    "                                    'prediction':sim_user_rec_struct['prediction'] * similarity_score,\n",
    "                                    'baseline_user_id':sim_user_id,\n",
    "                                    'similarity_score': similarity_score,\n",
    "                                    'baseline_user_prediction':sim_user_rec_struct['prediction'] }\n",
    "\n",
    "                current_user_recs.append(current_user_rec)\n",
    "    return current_user_recs\n",
    "similar_users_recs = generate_sim_recs(ratings_file=ratingsPysparkDf,baseline_users=similar_users,current_user_already_rated_posts=current_user_already_rated_posts)"
   ]
  },
  {
   "cell_type": "markdown",
   "metadata": {},
   "source": [
    "Opposite users flow"
   ]
  },
  {
   "cell_type": "code",
   "execution_count": 30,
   "metadata": {},
   "outputs": [
    {
     "name": "stdout",
     "output_type": "stream",
     "text": [
      "user_id = 203\n",
      "similarity_score =-0.7777278511934795\n",
      "[{'post_id': 1088, 'prediction': -0.940750777721405}, {'post_id': 2427, 'prediction': -0.8550181984901428}, {'post_id': 3602, 'prediction': -0.8071874976158142}, {'post_id': 2322, 'prediction': -0.7492169141769409}, {'post_id': 3102, 'prediction': -0.6862250566482544}, {'post_id': 2493, 'prediction': -0.6812204718589783}, {'post_id': 1791, 'prediction': -0.6640809774398804}, {'post_id': 486, 'prediction': -0.6570506691932678}, {'post_id': 1320, 'prediction': -0.6324908137321472}, {'post_id': 1909, 'prediction': -0.6243507266044617}, {'post_id': 3487, 'prediction': -0.5904501676559448}, {'post_id': 661, 'prediction': -0.5581014156341553}, {'post_id': 2373, 'prediction': -0.5576084852218628}, {'post_id': 386, 'prediction': -0.5543782711029053}, {'post_id': 1581, 'prediction': -0.5524340867996216}, {'post_id': 1623, 'prediction': -0.5490610599517822}, {'post_id': 3442, 'prediction': -0.538173258304596}, {'post_id': 2620, 'prediction': -0.5302762389183044}, {'post_id': 1292, 'prediction': -0.5252838134765625}, {'post_id': 2110, 'prediction': -0.5182110071182251}, {'post_id': 2860, 'prediction': -0.5095131397247314}, {'post_id': 1803, 'prediction': -0.4965299367904663}, {'post_id': 2346, 'prediction': -0.4863128364086151}, {'post_id': 1972, 'prediction': -0.4806866943836212}, {'post_id': 1418, 'prediction': -0.47743794322013855}, {'post_id': 1300, 'prediction': -0.47699519991874695}, {'post_id': 1940, 'prediction': -0.45871928334236145}, {'post_id': 993, 'prediction': -0.45234039425849915}, {'post_id': 3289, 'prediction': -0.4458376169204712}, {'post_id': 2674, 'prediction': -0.4418881833553314}]\n",
      "user_id = 37\n",
      "similarity_score =-0.6149076628818244\n",
      "[{'post_id': 1791, 'prediction': -1.197576880455017}, {'post_id': 738, 'prediction': -0.8485327363014221}, {'post_id': 3059, 'prediction': -0.8235741853713989}, {'post_id': 445, 'prediction': -0.7820301651954651}, {'post_id': 344, 'prediction': -0.7748587131500244}, {'post_id': 3102, 'prediction': -0.7567376494407654}, {'post_id': 1280, 'prediction': -0.735609769821167}, {'post_id': 2071, 'prediction': -0.7244172096252441}, {'post_id': 661, 'prediction': -0.7023868560791016}, {'post_id': 2860, 'prediction': -0.6678974628448486}, {'post_id': 2083, 'prediction': -0.6639851331710815}, {'post_id': 2410, 'prediction': -0.6465837955474854}, {'post_id': 3373, 'prediction': -0.6024240851402283}, {'post_id': 2812, 'prediction': -0.599883496761322}, {'post_id': 2546, 'prediction': -0.5993604063987732}, {'post_id': 1909, 'prediction': -0.5954182744026184}, {'post_id': 3555, 'prediction': -0.5935454964637756}, {'post_id': 1590, 'prediction': -0.5911462903022766}, {'post_id': 1258, 'prediction': -0.5736216306686401}, {'post_id': 1894, 'prediction': -0.5691770911216736}, {'post_id': 1320, 'prediction': -0.559907853603363}, {'post_id': 3511, 'prediction': -0.5578399896621704}, {'post_id': 498, 'prediction': -0.5508442521095276}, {'post_id': 2168, 'prediction': -0.539036750793457}, {'post_id': 1398, 'prediction': -0.5371271371841431}, {'post_id': 1088, 'prediction': -0.5324259400367737}, {'post_id': 3232, 'prediction': -0.5280859470367432}, {'post_id': 2251, 'prediction': -0.5269042253494263}, {'post_id': 2525, 'prediction': -0.5248459577560425}, {'post_id': 2459, 'prediction': -0.5244371891021729}]\n",
      "user_id = 247\n",
      "similarity_score =-0.6051832605515592\n",
      "[{'post_id': 1320, 'prediction': -1.0624897480010986}, {'post_id': 2493, 'prediction': -0.8881813287734985}, {'post_id': 3618, 'prediction': -0.8804540634155273}, {'post_id': 1971, 'prediction': -0.8309608697891235}, {'post_id': 2168, 'prediction': -0.811651349067688}, {'post_id': 344, 'prediction': -0.7529444098472595}, {'post_id': 735, 'prediction': -0.7444069981575012}, {'post_id': 1005, 'prediction': -0.7408693432807922}, {'post_id': 795, 'prediction': -0.7212641835212708}, {'post_id': 969, 'prediction': -0.6708654165267944}, {'post_id': 1019, 'prediction': -0.6544262170791626}, {'post_id': 3271, 'prediction': -0.6466784477233887}, {'post_id': 2213, 'prediction': -0.6378258466720581}, {'post_id': 3462, 'prediction': -0.6355458498001099}, {'post_id': 3650, 'prediction': -0.6352675557136536}, {'post_id': 2427, 'prediction': -0.6115757822990417}, {'post_id': 1688, 'prediction': -0.5881713628768921}, {'post_id': 1511, 'prediction': -0.5872209668159485}, {'post_id': 1850, 'prediction': -0.5836637020111084}, {'post_id': 2750, 'prediction': -0.5728413462638855}, {'post_id': 2763, 'prediction': -0.5716670155525208}, {'post_id': 3692, 'prediction': -0.5694785714149475}, {'post_id': 3239, 'prediction': -0.5684108138084412}, {'post_id': 2306, 'prediction': -0.564134955406189}, {'post_id': 1494, 'prediction': -0.5591644048690796}, {'post_id': 3416, 'prediction': -0.5581086874008179}, {'post_id': 2826, 'prediction': -0.5520201921463013}, {'post_id': 1909, 'prediction': -0.5508834719657898}, {'post_id': 2872, 'prediction': -0.5508420467376709}, {'post_id': 268, 'prediction': -0.5494608283042908}]\n"
     ]
    }
   ],
   "source": [
    "opposite_users_recs = generate_sim_recs(ratings_file=ratingsPysparkDf,baseline_users=opposite_users,current_user_already_rated_posts=current_user_already_rated_posts,similar=False)"
   ]
  },
  {
   "cell_type": "markdown",
   "metadata": {},
   "source": [
    "Testing on real users logic "
   ]
  },
  {
   "cell_type": "markdown",
   "metadata": {},
   "source": [
    "matrix factorization"
   ]
  },
  {
   "cell_type": "code",
   "execution_count": 31,
   "metadata": {},
   "outputs": [
    {
     "name": "stdout",
     "output_type": "stream",
     "text": [
      "{'post_id': 1688, 'prediction': 0.9327794313430786}\n",
      "{'post_id': 3373, 'prediction': 0.5286839080942827, 'baseline_user_id': 61, 'similarity_score': 0.6957035138603461, 'baseline_user_prediction': 0.7599270343780518}\n",
      "{'post_id': 3618, 'prediction': 0.5328360608636782, 'baseline_user_id': 247, 'similarity_score': -0.6051832605515592, 'baseline_user_prediction': -0.8804540634155273}\n"
     ]
    }
   ],
   "source": [
    "#Showing the 3 types of recomendations the user will encounter\n",
    "for rec in matrix_factorization_predictions:\n",
    "    print(rec)\n",
    "    break\n",
    "for rec in similar_users_recs:\n",
    "    print(rec)\n",
    "    break\n",
    "for rec in opposite_users_recs:\n",
    "    print(rec)\n",
    "    break"
   ]
  },
  {
   "cell_type": "code",
   "execution_count": 32,
   "metadata": {},
   "outputs": [
    {
     "name": "stdout",
     "output_type": "stream",
     "text": [
      "Lawns are stupid, wasteful, and vain.\n",
      "https://www.reddit.com//r/changemyview/comments/gjqxef/cmv_lawns_are_stupid_wasteful_and_vain/\n",
      "Valid input\n",
      "Making student loans bankruptcy dischargeable is a terrible idea and regress...\n",
      "https://www.reddit.com//r/changemyview/comments/14vmd6z/cmv_making_student_loans_bankruptcy_dischargeable/\n",
      "Valid input\n",
      "All classified govt material should be unclassified after 100 years\n",
      "https://www.reddit.com//r/changemyview/comments/9rk89i/cmv_all_classified_govt_material_should_be/\n",
      "Valid input\n",
      "If you believe a boyfriend/husband has no say in an abortion, than it is hyp...\n",
      "https://www.reddit.com//r/changemyview/comments/gqf338/cmv_if_you_believe_a_boyfriendhusband_has_no_say/\n",
      "Valid input\n",
      "Definition of fascism is being used incorrectly. Both right and left can be ...\n",
      "https://www.reddit.com//r/changemyview/comments/t2ru6g/cmv_definition_of_fascism_is_being_used/\n",
      "Valid input\n"
     ]
    }
   ],
   "source": [
    "def test_matrix_factorization(recs=matrix_factorization_predictions,tolerance_limit=5):\n",
    "    import data_processing\n",
    "    num_rated_posts = 0\n",
    "    matrix_factorization_results = {}\n",
    "    for data in recs:\n",
    "        id = data['post_id']\n",
    "        res =data_processing.get_resource_info(id)\n",
    "        print(res['title'])\n",
    "        print(res['url'])\n",
    "        is_valid = input('Does the url provide enough info for you to understand the basic ideas expressed in this post?(Y/N):')\n",
    "        if is_valid.lower() == 'y':\n",
    "            rec_score = float(input('How much did this recommended post make you see things trough a new perspective?:'))\n",
    "            matrix_factorization_results[id]={'user_score': rec_score, 'predicted_score':data['prediction'],'validity':True}\n",
    "            num_rated_posts +=1\n",
    "        else:\n",
    "            matrix_factorization_results[id]={'validity':False, 'predicted_score':data['prediction']}\n",
    "\n",
    "        current_user_already_rated_posts.add(id)\n",
    "        if num_rated_posts == tolerance_limit:\n",
    "            return matrix_factorization_results\n",
    "    return matrix_factorization_results\n",
    "\n",
    "\n",
    "matrix_factorization_results = test_matrix_factorization(matrix_factorization_predictions) "
   ]
  },
  {
   "cell_type": "code",
   "execution_count": 33,
   "metadata": {},
   "outputs": [
    {
     "data": {
      "text/plain": [
       "15"
      ]
     },
     "execution_count": 33,
     "metadata": {},
     "output_type": "execute_result"
    }
   ],
   "source": [
    "len(current_user_already_rated_posts)"
   ]
  },
  {
   "cell_type": "markdown",
   "metadata": {},
   "source": [
    "similar users"
   ]
  },
  {
   "cell_type": "code",
   "execution_count": 34,
   "metadata": {},
   "outputs": [
    {
     "name": "stdout",
     "output_type": "stream",
     "text": [
      "The stock market is government sanctioned gambling that suppresses the poor\n",
      "https://www.reddit.com//r/changemyview/comments/10gsh70/cmv_the_stock_market_is_government_sanctioned/\n",
      "Valid input\n",
      "Criticizing the Chinese government does not make you Sinophobic, Criticizing...\n",
      "https://www.reddit.com//r/changemyview/comments/loakbf/cmv_criticizing_the_chinese_government_does_not/\n",
      "Valid input\n",
      "racist jokes are bad and people who tell them are racist\n",
      "https://www.reddit.com//r/changemyview/comments/ct2hk5/cmv_racist_jokes_are_bad_and_people_who_tell_them/\n",
      "Valid input\n",
      "Jada's and Wills reaction was unacceptable.\n",
      "https://www.reddit.com//r/changemyview/comments/tqpqvh/cmv_jadas_and_wills_reaction_was_unacceptable/\n",
      "Valid input\n",
      "All binary transgender people should press \"The Button\" assuming they would ...\n",
      "https://www.reddit.com//r/changemyview/comments/dg8ozy/cmv_all_binary_transgender_people_should_press/\n",
      "Valid input\n"
     ]
    }
   ],
   "source": [
    "import data_processing\n",
    "def test_user_similarity_recommendations(baseline_users_recs,tolerance_limit =5):\n",
    "    num_rated_posts = 0\n",
    "    baseline_user_recs_results = {}\n",
    "    for data in baseline_users_recs:\n",
    "        res_id = data['post_id']\n",
    "        if res_id in current_user_already_rated_posts:\n",
    "            print('found already recommended post')\n",
    "            continue\n",
    "        \n",
    "        res = data_processing.get_resource_info(res_id)\n",
    "        baseline_user_id = data['baseline_user_id']\n",
    "        print(res['title'])\n",
    "        print(res['url'])\n",
    "        is_valid = input('Does the url provide enough info for you to understand the basic ideas expressed in this post?(Y/N):')\n",
    "        if is_valid.lower() == 'y':\n",
    "            print(\"Valid input\")\n",
    "            rec_score = float(input('How much did this recommended post make you see things trough a new perspective?:'))\n",
    "            baseline_user_recs_results[baseline_user_id]={'user_score': rec_score, 'rec_info':data,'validity':True}\n",
    "            num_rated_posts +=1\n",
    "        else:\n",
    "            baseline_user_recs_results[baseline_user_id]={'validity':False, 'rec_info':data}\n",
    "\n",
    "        current_user_already_rated_posts.add(res_id)\n",
    "        if num_rated_posts==tolerance_limit:\n",
    "            return baseline_user_recs_results\n",
    "    return baseline_user_recs_results\n",
    "\n",
    "\n",
    "similar_user_recs_results = test_user_similarity_recommendations(similar_users_recs)"
   ]
  },
  {
   "cell_type": "code",
   "execution_count": 35,
   "metadata": {},
   "outputs": [
    {
     "data": {
      "text/plain": [
       "20"
      ]
     },
     "execution_count": 35,
     "metadata": {},
     "output_type": "execute_result"
    }
   ],
   "source": [
    "len(current_user_already_rated_posts)"
   ]
  },
  {
   "cell_type": "markdown",
   "metadata": {},
   "source": [
    "Opposite users"
   ]
  },
  {
   "cell_type": "code",
   "execution_count": 36,
   "metadata": {},
   "outputs": [
    {
     "name": "stdout",
     "output_type": "stream",
     "text": [
      "The Israeli military operation is counterproductive\n",
      "https://www.reddit.com//r/changemyview/comments/180iel8/cmv_the_israeli_military_operation_is/\n",
      "Valid input\n",
      "Historically, the only successful long-term alternatives to Strongman Author...\n",
      "https://www.reddit.com//r/changemyview/comments/k9r1ip/cmv_historically_the_only_successful_longterm/\n",
      "Valid input\n",
      "found already recommended post\n",
      "Trading Card Games are a business model that hurts the game's experience mor...\n",
      "https://www.reddit.com//r/changemyview/comments/bcg9wc/cmv_trading_card_games_are_a_business_model_that/\n",
      "Valid input\n",
      "Math should be assessed like English, allowing creativity through open ended answer\n",
      "https://www.reddit.com//r/changemyview/comments/a1pifu/cmv_math_should_be_assessed_like_english_allowing/\n",
      "Valid input\n",
      "Abolishing the electoral college is a selfish ambition and further marginali...\n",
      "https://www.reddit.com//r/changemyview/comments/b31329/cmv_abolishing_the_electoral_college_is_a_selfish/\n",
      "Valid input\n"
     ]
    }
   ],
   "source": [
    "opposite_user_recs_results = test_user_similarity_recommendations(opposite_users_recs)"
   ]
  },
  {
   "cell_type": "code",
   "execution_count": 37,
   "metadata": {},
   "outputs": [
    {
     "data": {
      "text/plain": [
       "25"
      ]
     },
     "execution_count": 37,
     "metadata": {},
     "output_type": "execute_result"
    }
   ],
   "source": [
    "len(current_user_already_rated_posts)"
   ]
  },
  {
   "cell_type": "markdown",
   "metadata": {},
   "source": [
    "saving results\n"
   ]
  },
  {
   "cell_type": "code",
   "execution_count": 38,
   "metadata": {},
   "outputs": [
    {
     "name": "stdout",
     "output_type": "stream",
     "text": [
      "{247: {'user_score': 1.0, 'rec_info': {'post_id': 969, 'prediction': 0.40599652016496535, 'baseline_user_id': 247, 'similarity_score': -0.6051832605515592, 'baseline_user_prediction': -0.6708654165267944}, 'validity': True}}\n",
      "{61: {'user_score': 1.0, 'rec_info': {'post_id': 1280, 'prediction': 0.44513292832056395, 'baseline_user_id': 61, 'similarity_score': 0.6957035138603461, 'baseline_user_prediction': 0.6398313641548157}, 'validity': True}}\n",
      "{1688: {'user_score': 1.0, 'predicted_score': 0.9327794313430786, 'validity': True}, 3602: {'user_score': 1.0, 'predicted_score': 0.8363574743270874, 'validity': True}, 735: {'user_score': 1.0, 'predicted_score': 0.8085615634918213, 'validity': True}, 1713: {'user_score': 1.0, 'predicted_score': 0.7815169095993042, 'validity': True}, 2860: {'user_score': 1.0, 'predicted_score': 0.7676966190338135, 'validity': True}}\n",
      "1\n"
     ]
    }
   ],
   "source": [
    "import json\n",
    "\n",
    "print(opposite_user_recs_results)\n",
    "print(similar_user_recs_results)\n",
    "print(matrix_factorization_results)\n",
    "print(name)\n",
    "\n",
    "\n"
   ]
  },
  {
   "cell_type": "code",
   "execution_count": 39,
   "metadata": {},
   "outputs": [],
   "source": [
    "import os \n",
    "\n",
    "RESULTS_FOLDER_LOCATION = \"collaborative_filtering_results\"\n",
    "results_file_location = os.path.join(RESULTS_FOLDER_LOCATION,name+'_collaborative_filtering.json')\n",
    "\n",
    "results_file = open(results_file_location,'w')\n",
    "\n",
    "final_user_result={\n",
    "    'name': name,\n",
    "    'id':user_id,\n",
    "    'matrix_factorization':matrix_factorization_results,\n",
    "    'similar_users':similar_user_recs_results,\n",
    "    'opposite_users':opposite_user_recs_results\n",
    "}\n",
    "json.dump(final_user_result,results_file)\n"
   ]
  },
  {
   "cell_type": "markdown",
   "metadata": {},
   "source": [
    "loading results"
   ]
  },
  {
   "cell_type": "code",
   "execution_count": 40,
   "metadata": {},
   "outputs": [
    {
     "name": "stdout",
     "output_type": "stream",
     "text": [
      "{'name': '1', 'id': 294, 'matrix_factorization': {'1688': {'user_score': 1.0, 'predicted_score': 0.9327794313430786, 'validity': True}, '3602': {'user_score': 1.0, 'predicted_score': 0.8363574743270874, 'validity': True}, '735': {'user_score': 1.0, 'predicted_score': 0.8085615634918213, 'validity': True}, '1713': {'user_score': 1.0, 'predicted_score': 0.7815169095993042, 'validity': True}, '2860': {'user_score': 1.0, 'predicted_score': 0.7676966190338135, 'validity': True}}, 'similar_users': {'61': {'user_score': 1.0, 'rec_info': {'post_id': 1280, 'prediction': 0.44513292832056395, 'baseline_user_id': 61, 'similarity_score': 0.6957035138603461, 'baseline_user_prediction': 0.6398313641548157}, 'validity': True}}, 'opposite_users': {'247': {'user_score': 1.0, 'rec_info': {'post_id': 969, 'prediction': 0.40599652016496535, 'baseline_user_id': 247, 'similarity_score': -0.6051832605515592, 'baseline_user_prediction': -0.6708654165267944}, 'validity': True}}}\n"
     ]
    }
   ],
   "source": [
    "results_file = open(results_file_location,'r')\n",
    "\n",
    "print(json.load(results_file))"
   ]
  }
 ],
 "metadata": {
  "kernelspec": {
   "display_name": "Python 3",
   "language": "python",
   "name": "python3"
  },
  "language_info": {
   "codemirror_mode": {
    "name": "ipython",
    "version": 3
   },
   "file_extension": ".py",
   "mimetype": "text/x-python",
   "name": "python",
   "nbconvert_exporter": "python",
   "pygments_lexer": "ipython3",
   "version": "3.10.0"
  }
 },
 "nbformat": 4,
 "nbformat_minor": 2
}
