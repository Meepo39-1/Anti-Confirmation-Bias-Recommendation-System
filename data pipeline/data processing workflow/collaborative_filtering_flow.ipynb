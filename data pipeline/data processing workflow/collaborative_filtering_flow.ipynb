{
 "cells": [
  {
   "cell_type": "markdown",
   "metadata": {},
   "source": [
    "# Collaborative Filtering"
   ]
  },
  {
   "cell_type": "markdown",
   "metadata": {},
   "source": [
    "## Load data"
   ]
  },
  {
   "cell_type": "code",
   "execution_count": 28,
   "metadata": {},
   "outputs": [
    {
     "name": "stdout",
     "output_type": "stream",
     "text": [
      "293 users\n",
      "2995 rated resources from initially 3727 loaded resources\n",
      "6052 interactions\n",
      "feedback matrix is 0.6896591019161629% populated\n"
     ]
    }
   ],
   "source": [
    "import data_processing\n",
    "\n",
    "\n",
    "data_processing.load_resources_from_raw_delta_logs(min_num_interactions=6)\n",
    "data_processing.load_users(min_num_interactions=10)\n",
    "users,resources,ratings,num_interactions = data_processing.compute_ratings()"
   ]
  },
  {
   "cell_type": "markdown",
   "metadata": {},
   "source": [
    "## Fit model"
   ]
  },
  {
   "cell_type": "code",
   "execution_count": 3,
   "metadata": {},
   "outputs": [
    {
     "name": "stdout",
     "output_type": "stream",
     "text": [
      "Root-mean-square error = 0.018965150366215943\n"
     ]
    }
   ],
   "source": [
    "\n",
    "def compute_matrix_factorization():\n",
    "    \n",
    "    '''\n",
    "        Aproximate data_processing_session/ratings file with pyspark framework, using ALS algo\n",
    "       \n",
    "        returns (ratings pyspark dataframe,model object,rmse aproximation score)\n",
    "    '''\n",
    "\n",
    "    from pyspark.sql import SparkSession\n",
    "    from pyspark.sql.functions import col \n",
    "    from pyspark.ml.evaluation import RegressionEvaluator\n",
    "    from pyspark.ml.recommendation import ALS\n",
    "    from pyspark.sql import Row\n",
    "    import os\n",
    "    import sys\n",
    "\n",
    "    \n",
    "    # uncomment these in case you have problems with environment variables\n",
    "    # os.environ['PYSPARK_PYTHON'] = sys.executable\n",
    "    # os.environ['PYSPARK_DRIVER_PYTHON'] = sys.executable\n",
    "\n",
    "    #initialize spark\n",
    "    import findspark\n",
    "    findspark.init()\n",
    "\n",
    "    spark = SparkSession.builder.appName(\"Collaborative Filtering Flow\").getOrCreate()\n",
    "\n",
    "    #preprocess ratings file into pyspark dataframe\n",
    "    path = os.path.join('data processing session','extracted_ratings')\n",
    "    lines = spark.read.text(path).rdd\n",
    "\n",
    "    parts = lines.map(lambda row: row.value.split(\" \"))\n",
    "    ratingsRDD = parts.map(lambda p: Row(userId=int(p[0]), postId=int(p[1]),\n",
    "                                        rating=float(p[2]) ))\n",
    "\n",
    "\n",
    "    ratings = spark.createDataFrame(ratingsRDD)\n",
    "\n",
    "    (training, test) = ratings, ratings\n",
    "\n",
    "    # # Build the recommendation model using ALS on the training data\n",
    "    # # Note we set cold start strategy to 'drop' to ensure we don't get NaN evaluation metrics\n",
    "    als = ALS(maxIter=5, regParam=0.01, userCol=\"userId\", itemCol=\"postId\", ratingCol=\"rating\",\n",
    "            coldStartStrategy=\"drop\")\n",
    "    model = als.fit(training)\n",
    "\n",
    "    # # Evaluate the model by computing the RMSE on the test (in this case also train) data\n",
    "    predictions = model.transform(test)\n",
    "    evaluator = RegressionEvaluator(metricName=\"rmse\", labelCol=\"rating\",\n",
    "                                    predictionCol=\"prediction\")\n",
    "    rmse = evaluator.evaluate(predictions)\n",
    "    print(\"Root-mean-square error = \" + str(rmse))\n",
    "    return (ratings,model,rmse)\n",
    "\n",
    "ratingsPysparkDf,model,rmse = compute_matrix_factorization()"
   ]
  },
  {
   "cell_type": "markdown",
   "metadata": {},
   "source": [
    "## Extract resources relevant to the latent factors"
   ]
  },
  {
   "cell_type": "code",
   "execution_count": 4,
   "metadata": {},
   "outputs": [],
   "source": [
    "def extract_baseline_posts(model,cached=True):\n",
    "\n",
    "    '''\n",
    "        Extracts and returns baseline posts for solving cold start problem \n",
    "         \n",
    "        based on top posts for every latent factor of the model\n",
    "        \n",
    "        or return hardcoded posts\n",
    "        \n",
    "    '''\n",
    "\n",
    "    import data_processing\n",
    "\n",
    "    #these hardcoded posts are extracted by taking the top 10 posts from every latent score of the model\n",
    "    #and picking the ones that have a functional link/a novel topic\n",
    "    titles =[\n",
    "        \"Infidelity should not happen when divorce is possible\",\n",
    "         \"The default world lingua franca should be Spanish\",\n",
    "         \"Buying clothes or goods from factories in the developing world is moral, eve...\",\n",
    "         \"The legal owner of a firearm should be responsible for the weapon and anythi...\",\n",
    "         \"Airport security screenings do very little to stop deliberate terrorism such as the attacks of 9/11. They are a show put on to make passengers think something is being done.\",\n",
    "         \"Luxury watches are useless in the practical sense\",\n",
    "         \"The concept of an omniscient (*) and capable creator is not compatible with ...\",\n",
    "         \"If whatever makes your character different (sexual identity/disability etc) ...\",\n",
    "         \"Cutlery should be placed at the end of a buffet line\",\n",
    "         \"If an animal has a big enough population, hunting of it should be allowed\"\n",
    "]\n",
    "    \n",
    "    if cached:\n",
    "        baseline_posts = []\n",
    "        for title in titles:\n",
    "            #print(title)\n",
    "            id = data_processing.res_id[title]\n",
    "            #print(id)\n",
    "            baseline_posts.append(data_processing.get_resource_info(id))\n",
    "        return baseline_posts\n",
    "    else:    \n",
    "        '''After advisor approval, these posts shall be hardcoded '''\n",
    "\n",
    "        from pyspark.sql.functions import expr\n",
    "\n",
    "        # Extract item factors\n",
    "        item_factors = model.itemFactors\n",
    "\n",
    "        # Find the top 5 highest scores for each latent factor\n",
    "        num_factors = model.rank  # Number of latent factors\n",
    "        top_scores_per_factor = []\n",
    "\n",
    "        for i in range(num_factors):\n",
    "            factor_col = expr(f\"features[{i}]\")\n",
    "            top_rows = (item_factors\n",
    "                        .select(\"id\", factor_col.alias(\"factor\"))\n",
    "                        .orderBy(\"factor\", ascending=False)\n",
    "                        .limit(10)\n",
    "                        .collect())\n",
    "            top_scores_per_factor.append((i, [(row.id, row.factor) for row in top_rows]))\n",
    "\n",
    "        #for the final version, the resources will be predefined, to ensure that the reddit posts links are not deprecated\n",
    "        baseline_posts = []\n",
    "        for factor, top_scores in top_scores_per_factor:\n",
    "            for rank, (post_id, factor_score) in enumerate(top_scores, start=1):\n",
    "                if rank ==1:\n",
    "                    baseline_posts.append({'id':post_id,'score':factor_score,'content':data_processing.id_res[post_id]})\n",
    "                print(f'title:{data_processing.id_res[post_id][\"title\"]},url:{data_processing.id_res[post_id][\"url\"]},factor {factor},score:{factor_score}')\n",
    "            print(\"-\"*100)\n",
    "        return baseline_posts\n",
    "\n",
    "baseline_posts = extract_baseline_posts(model,cached=True)"
   ]
  },
  {
   "cell_type": "code",
   "execution_count": 5,
   "metadata": {},
   "outputs": [
    {
     "name": "stdout",
     "output_type": "stream",
     "text": [
      "{'title': 'Infidelity should not happen when divorce is possible', 'pos_feedback': ['Nitrousoxide72', 'RedditExplorer89'], 'neg_feedback': ['ripcelinedionhusband', 'Melodic_Echidna', 'joopface', 'dublea', 'ripcelinedionhusband', 'WelfareBear', 'JimboMan1234', '', 'muyamable', 'Nephisimian', 'USoverthem'], 'url': 'https://www.reddit.com//r/changemyview/comments/imh6iw/cmv_infidelity_should_not_happen_when_divorce_is/'}\n"
     ]
    }
   ],
   "source": [
    "#example of a post object content\n",
    "print(baseline_posts[0])"
   ]
  },
  {
   "cell_type": "code",
   "execution_count": 6,
   "metadata": {},
   "outputs": [
    {
     "name": "stdout",
     "output_type": "stream",
     "text": [
      "10 [{'title': 'Infidelity should not happen when divorce is possible', 'pos_feedback': ['Nitrousoxide72', 'RedditExplorer89'], 'neg_feedback': ['ripcelinedionhusband', 'Melodic_Echidna', 'joopface', 'dublea', 'ripcelinedionhusband', 'WelfareBear', 'JimboMan1234', '', 'muyamable', 'Nephisimian', 'USoverthem'], 'url': 'https://www.reddit.com//r/changemyview/comments/imh6iw/cmv_infidelity_should_not_happen_when_divorce_is/'}, {'title': 'The default world lingua franca should be Spanish', 'pos_feedback': ['NicholasLeo', 'BrotherItsInTheDrum'], 'neg_feedback': ['Igor_Furman', 'muyamable', '', 'MontiBurns', '', 'parentheticalobject'], 'url': 'https://www.reddit.com//r/changemyview/comments/hf49v5/cmv_the_default_world_lingua_franca_should_be/'}, {'title': 'Buying clothes or goods from factories in the developing world is moral, eve...', 'pos_feedback': ['mr-logician', 'thedobya'], 'neg_feedback': ['AnythingApplied', 'AnythingApplied', 'MercurianAspirations', 'StellaAthena'], 'url': 'https://www.reddit.com//r/changemyview/comments/dwebfc/cmv_buying_clothes_or_goods_from_factories_in_the/'}, {'title': 'The legal owner of a firearm should be responsible for the weapon and anythi...', 'pos_feedback': ['BoredRedhead'], 'neg_feedback': ['Missing_Links', 'Fanfic_Galore', 'BoyMeetsTheWorld', 'MechanicalEngineEar', 'Servant-Ruler', 'Lilah_R', 'VoodooManchester', 'DBDude', 'NastyNNaughty69', '', '600062'], 'url': 'https://www.reddit.com//r/changemyview/comments/i4f917/cmv_the_legal_owner_of_a_firearm_should_be/'}, {'title': 'Airport security screenings do very little to stop deliberate terrorism such as the attacks of 9/11. They are a show put on to make passengers think something is being done.', 'pos_feedback': ['TheloniusMusk', 'florencenightinjale'], 'neg_feedback': ['hacksoncode', 'MyUsernameIsJudge', '', 'Ansuz07', 'thisisnotariot', '', 'apparentlyapparent'], 'url': 'https://www.reddit.com/r/changemyview/comments/8a9r3h/cmv_airport_security_screenings_do_very_little_to/'}, {'title': 'Luxury watches are useless in the practical sense', 'pos_feedback': ['Crayshack', 'avatarlegend12345'], 'neg_feedback': ['KDY_ISD', 'KDY_ISD', 'HallucinatoryWalnut', 'a_sack_of_hamsters'], 'url': 'https://www.reddit.com//r/changemyview/comments/bvupnz/cmv_luxury_watches_are_useless_in_the_practical/'}, {'title': 'The concept of an omniscient (*) and capable creator is not compatible with ...', 'pos_feedback': ['Salty_Dornishman', 'PivotPsycho'], 'neg_feedback': ['badass_panda', 'JoZeHgS', 'wajubop', 'ButtonholePhotophile', 'MizunoGolfer15-20', 'NicholasLeo'], 'url': 'https://www.reddit.com//r/changemyview/comments/lbqam1/cmv_the_concept_of_an_omniscient_and_capable/'}, {'title': 'If whatever makes your character different (sexual identity/disability etc) ...', 'pos_feedback': ['GnosticGnome', 'doriangraiy'], 'neg_feedback': ['th3empirial', 'BeatriceBernardo', 'HazelGhost', 'adhd_energy_'], 'url': 'https://www.reddit.com//r/changemyview/comments/mu84wm/cmv_if_whatever_makes_your_character_different/'}, {'title': 'Cutlery should be placed at the end of a buffet line', 'pos_feedback': ['zfreakazoidz', 'Herbie_Fully_Loaded'], 'neg_feedback': ['ralph-j', 'dublea', '', 'ThinkingAboutJulia', 'erection_detection_', 'pawnman99', 'badass_panda'], 'url': 'https://www.reddit.com//r/changemyview/comments/n6y914/cmv_cutlery_should_be_placed_at_the_end_of_a/'}, {'title': 'If an animal has a big enough population, hunting of it should be allowed', 'pos_feedback': ['overhardeggs'], 'neg_feedback': ['GoblinRaiders', 'NowImAllSet', 'destro23', 'destro23', 'wantingtodobetter', 'drschwartz', '', 'hacksoncode'], 'url': 'https://www.reddit.com//r/changemyview/comments/w9hy6t/cmv_if_an_animal_has_a_big_enough_population/'}]\n"
     ]
    }
   ],
   "source": [
    "print(len(baseline_posts),baseline_posts)"
   ]
  },
  {
   "cell_type": "markdown",
   "metadata": {},
   "source": [
    "## Collect data for cold start problem"
   ]
  },
  {
   "cell_type": "code",
   "execution_count": 7,
   "metadata": {},
   "outputs": [],
   "source": [
    "#helper functions for user input#\n",
    "def is_valid(input,inf,sup,categorical=False):\n",
    "    try:\n",
    "        if categorical:\n",
    "            rating  = int(input)\n",
    "        else:\n",
    "            rating  = float(input)\n",
    "        if rating < inf or rating > sup:\n",
    "            return False\n",
    "        else:\n",
    "            return True\n",
    "    except:\n",
    "        return False\n",
    "\n",
    "def collect_feedback(input_text,error_text,inf_bound,sup_bound,categorical=False):\n",
    "    feedback = input(input_text)\n",
    "    while is_valid(feedback,inf_bound,sup_bound,categorical) == False:\n",
    "        print(error_text)\n",
    "        feedback = input(input_text)\n",
    "    return feedback"
   ]
  },
  {
   "cell_type": "code",
   "execution_count": 8,
   "metadata": {},
   "outputs": [
    {
     "name": "stdout",
     "output_type": "stream",
     "text": [
      "Title:Infidelity should not happen when divorce is possible\n",
      "url: https://www.reddit.com//r/changemyview/comments/imh6iw/cmv_infidelity_should_not_happen_when_divorce_is/\n",
      "Title:The default world lingua franca should be Spanish\n",
      "url: https://www.reddit.com//r/changemyview/comments/hf49v5/cmv_the_default_world_lingua_franca_should_be/\n",
      "Title:Buying clothes or goods from factories in the developing world is moral, eve...\n",
      "url: https://www.reddit.com//r/changemyview/comments/dwebfc/cmv_buying_clothes_or_goods_from_factories_in_the/\n",
      "Title:The legal owner of a firearm should be responsible for the weapon and anythi...\n",
      "url: https://www.reddit.com//r/changemyview/comments/i4f917/cmv_the_legal_owner_of_a_firearm_should_be/\n",
      "Title:Airport security screenings do very little to stop deliberate terrorism such as the attacks of 9/11. They are a show put on to make passengers think something is being done.\n",
      "url: https://www.reddit.com/r/changemyview/comments/8a9r3h/cmv_airport_security_screenings_do_very_little_to/\n",
      "Title:Luxury watches are useless in the practical sense\n",
      "url: https://www.reddit.com//r/changemyview/comments/bvupnz/cmv_luxury_watches_are_useless_in_the_practical/\n",
      "Title:The concept of an omniscient (*) and capable creator is not compatible with ...\n",
      "url: https://www.reddit.com//r/changemyview/comments/lbqam1/cmv_the_concept_of_an_omniscient_and_capable/\n",
      "Title:If whatever makes your character different (sexual identity/disability etc) ...\n",
      "url: https://www.reddit.com//r/changemyview/comments/mu84wm/cmv_if_whatever_makes_your_character_different/\n",
      "Title:Cutlery should be placed at the end of a buffet line\n",
      "url: https://www.reddit.com//r/changemyview/comments/n6y914/cmv_cutlery_should_be_placed_at_the_end_of_a/\n",
      "Title:If an animal has a big enough population, hunting of it should be allowed\n",
      "url: https://www.reddit.com//r/changemyview/comments/w9hy6t/cmv_if_an_animal_has_a_big_enough_population/\n"
     ]
    }
   ],
   "source": [
    "def init_cold_start(baseline_posts,cached=True):\n",
    "\n",
    "    '''\n",
    "    Feed user baseline posts and collect feedback in order to compute recommendations\n",
    "    '''\n",
    "\n",
    "    import data_processing\n",
    "\n",
    "    name = input(\"Please write your name:\")\n",
    "    description = \"Dummy description of the task\"\n",
    "\n",
    "    baseline_results =[]\n",
    "\n",
    "    if cached:\n",
    "        for res in baseline_posts:\n",
    "            print(f'Title:{res[\"title\"]}')\n",
    "            print(f'url: {res[\"url\"]}')\n",
    "            \n",
    "            feedback = collect_feedback('How much did this post make you see things trough a new perspective?:',\n",
    "                         \"Input should be a continuous value between -1 and 1\",\n",
    "                         inf_bound=-1,\n",
    "                         sup_bound=1)\n",
    "            baseline_score = float(feedback)\n",
    "            baseline_results.append({'id':data_processing.res_id[res['title']],'user_score':baseline_score})\n",
    "        return (baseline_results,name)\n",
    "    else:\n",
    "        for baseline_post in baseline_posts:\n",
    "            res = baseline_post[\"content\"]\n",
    "            print(f'Title:{res[\"title\"]}')\n",
    "            print(f'url: {res[\"url\"]}')\n",
    "            feedback = collect_feedback('How much did this post make you see things trough a new perspective?:',\n",
    "                         \"Input should be a continuous value between -1 and 1\",\n",
    "                         inf_bound=-1,\n",
    "                         sup_bound=1)\n",
    "            baseline_score = float(feedback)\n",
    "            baseline_results.append({'id':baseline_post['id'],'factor_score':baseline_post['score'],'user_score':baseline_score})\n",
    "        return (baseline_results,name)\n",
    "\n",
    "\n",
    "baseline_results,name = init_cold_start(baseline_posts)"
   ]
  },
  {
   "cell_type": "markdown",
   "metadata": {},
   "source": [
    "## Fit the model with the new user's data"
   ]
  },
  {
   "cell_type": "code",
   "execution_count": 9,
   "metadata": {},
   "outputs": [
    {
     "name": "stdout",
     "output_type": "stream",
     "text": [
      "294\n"
     ]
    }
   ],
   "source": [
    "import os\n",
    "\n",
    "def add_new_user_ratings(baseline_results):\n",
    "\n",
    "    '''\n",
    "        Append user feedback to ratings file\n",
    "        \n",
    "    '''\n",
    "    ratings_path_file = os.path.join('data processing session','extracted_ratings')\n",
    "\n",
    "    ratings_file = open(ratings_path_file,'r')\n",
    "\n",
    "\n",
    "    for line in ratings_file:\n",
    "        last_line = line\n",
    "    last_line = last_line.split(\" \")\n",
    "    new_user_id = int(last_line[0]) + 1\n",
    "    print(new_user_id)\n",
    "    ratings_file.close()\n",
    "    ratings_file = open(ratings_path_file,'a')\n",
    "\n",
    "    for result in baseline_results:\n",
    "        #ratings_file.write()\n",
    "        res_id = result['id']\n",
    "        score = result['user_score']\n",
    "        ratings_file.write(f'{new_user_id} {res_id} {score}\\n')\n",
    "        #print(f'{new_user_id} {res_id} {score}\\n')\n",
    "    ratings_file.close()\n",
    "    return new_user_id\n",
    "user_id = add_new_user_ratings(baseline_results)"
   ]
  },
  {
   "cell_type": "code",
   "execution_count": 10,
   "metadata": {},
   "outputs": [
    {
     "name": "stdout",
     "output_type": "stream",
     "text": [
      "Root-mean-square error = 0.018959604211848585\n"
     ]
    }
   ],
   "source": [
    "ratingsPysparkDf,model,rmse = compute_matrix_factorization()"
   ]
  },
  {
   "cell_type": "markdown",
   "metadata": {},
   "source": [
    "## Make recommendations for the new user based on matrix factorization"
   ]
  },
  {
   "cell_type": "markdown",
   "metadata": {},
   "source": [
    "### Extract ids of already rated posts by user"
   ]
  },
  {
   "cell_type": "code",
   "execution_count": 11,
   "metadata": {},
   "outputs": [],
   "source": [
    "def extract_posts_already_rated(ratings,user_id = 294):\n",
    "    from pyspark.sql.functions import col \n",
    "    user_ratings = ratings.filter(col(\"userId\") == 294).select(\"postId\").distinct()\n",
    "    posts_rated_by_user = set()\n",
    "\n",
    "    for post_id in user_ratings.toPandas().values:\n",
    "        posts_rated_by_user.add(post_id[0])\n",
    "\n",
    "    return posts_rated_by_user\n",
    "current_user_already_rated_posts = extract_posts_already_rated(ratingsPysparkDf)"
   ]
  },
  {
   "cell_type": "code",
   "execution_count": 12,
   "metadata": {},
   "outputs": [
    {
     "name": "stdout",
     "output_type": "stream",
     "text": [
      "+------+----------------------------------------------------------+\n",
      "|userId|recommendations                                           |\n",
      "+------+----------------------------------------------------------+\n",
      "|294   |[{1252, 1.0259914}, {3102, 0.9951712}, {2427, 0.99407864}]|\n",
      "+------+----------------------------------------------------------+\n",
      "\n"
     ]
    }
   ],
   "source": [
    "#This posts have already been rated by the user\n",
    "user_recommendations = model.recommendForAllUsers(3)\n",
    "user_recommendations.filter(user_recommendations.userId==294).show(truncate=False)"
   ]
  },
  {
   "cell_type": "code",
   "execution_count": 13,
   "metadata": {},
   "outputs": [
    {
     "name": "stdout",
     "output_type": "stream",
     "text": [
      "[{'post_id': 1252, 'prediction': 1.025991439819336}, {'post_id': 1605, 'prediction': 0.9424614906311035}, {'post_id': 3462, 'prediction': 0.8485513925552368}, {'post_id': 2220, 'prediction': 0.8133757710456848}, {'post_id': 114, 'prediction': 0.8082108497619629}, {'post_id': 3619, 'prediction': 0.8057456612586975}, {'post_id': 2043, 'prediction': 0.8053984045982361}, {'post_id': 2601, 'prediction': 0.7940481901168823}, {'post_id': 2737, 'prediction': 0.7828012704849243}, {'post_id': 620, 'prediction': 0.7738643288612366}, {'post_id': 1599, 'prediction': 0.773391604423523}, {'post_id': 1443, 'prediction': 0.7569259405136108}, {'post_id': 277, 'prediction': 0.7462075352668762}, {'post_id': 2998, 'prediction': 0.7305809855461121}, {'post_id': 2335, 'prediction': 0.7199878692626953}]\n"
     ]
    }
   ],
   "source": [
    "from pyspark.sql.functions import col,lit\n",
    "\n",
    "def generate_matrix_factorization_recs(ratingsPysparkDf,user_id = 294,number_recs=15,similar=True):\n",
    "    \n",
    "    # Generate recommendations for a specific user\n",
    "    user_ratings = ratingsPysparkDf.filter(col(\"userId\") == user_id).select(\"postId\").distinct()\n",
    "    #user_ratings.show()\n",
    "    all_posts = ratingsPysparkDf.select(\"postId\").distinct()\n",
    "    posts_not_rated_by_user = all_posts.join(user_ratings, on=\"postId\", how=\"left_anti\")\n",
    "\n",
    "    #posts_not_rated_by_user.show()\n",
    "\n",
    "    # Recommend top number_recs posts\n",
    "    posts_not_rated_by_user = posts_not_rated_by_user.withColumn(\"userId\", lit(user_id))\n",
    "    recommendations = model.transform(posts_not_rated_by_user)\n",
    "    if similar:\n",
    "        top_recommendations = recommendations.orderBy(col(\"prediction\").desc()).select(\"postId\", \"prediction\").limit(number_recs)\n",
    "    else:\n",
    "        top_recommendations = recommendations.orderBy(col(\"prediction\")).select(\"postId\", \"prediction\").limit(number_recs)\n",
    "\n",
    "    #top_recommendations.show()\n",
    "\n",
    "\n",
    "    #extract them in a list\n",
    "    postIds = [p[0] for p in top_recommendations.select(\"postId\").toPandas().values.tolist()]\n",
    "    predictions = [p[0] for p in top_recommendations.select(\"prediction\").toPandas().values.tolist()]\n",
    "\n",
    "\n",
    "    matrix_factorization_predictions = []\n",
    "    for index in range(len(postIds)):\n",
    "        matrix_factorization_predictions.append({'post_id':postIds[index],'prediction':predictions[index]})\n",
    "    print(matrix_factorization_predictions)\n",
    "    return matrix_factorization_predictions\n",
    "\n",
    "matrix_factorization_predictions = generate_matrix_factorization_recs(ratingsPysparkDf,user_id = 294,similar=True)\n"
   ]
  },
  {
   "cell_type": "code",
   "execution_count": 23,
   "metadata": {},
   "outputs": [],
   "source": [
    "#Note:\n",
    "# after collecting user ratings, we will add them to the current_user_already_rated_posts set"
   ]
  },
  {
   "cell_type": "markdown",
   "metadata": {},
   "source": [
    "## Make recommendations for the new user based on similar and opposite users\n",
    "\n",
    "### Make recommendations based on similar users\n"
   ]
  },
  {
   "cell_type": "markdown",
   "metadata": {},
   "source": [
    "### Create similarity matrix of users"
   ]
  },
  {
   "cell_type": "code",
   "execution_count": 14,
   "metadata": {},
   "outputs": [
    {
     "name": "stdout",
     "output_type": "stream",
     "text": [
      "          2         3         4         5         6         7         8    \\\n",
      "2    1.000000  0.501149  0.687818  0.046454  0.045648 -0.351726 -0.547974   \n",
      "3    0.501149  1.000000  0.532797  0.078803 -0.220489  0.004581 -0.401920   \n",
      "4    0.687818  0.532797  1.000000  0.159743 -0.320948 -0.480992 -0.603157   \n",
      "5    0.046454  0.078803  0.159743  1.000000 -0.515379 -0.535386 -0.500516   \n",
      "6    0.045648 -0.220489 -0.320948 -0.515379  1.000000  0.281414  0.359716   \n",
      "..        ...       ...       ...       ...       ...       ...       ...   \n",
      "290  0.125160  0.450687 -0.235402 -0.450344  0.223754  0.187425  0.267485   \n",
      "291  0.157260  0.383757  0.335712  0.225980 -0.426012 -0.088554 -0.492939   \n",
      "292 -0.359224  0.036293 -0.255834  0.161450 -0.641699 -0.173836  0.076878   \n",
      "293 -0.158616  0.011091  0.178531 -0.221737 -0.335482 -0.374536  0.151570   \n",
      "294  0.042420  0.376775 -0.021965 -0.178982 -0.062401  0.237455 -0.297423   \n",
      "\n",
      "          9         10        11   ...       285       286       287  \\\n",
      "2   -0.113128  0.381695  0.493888  ...  0.252626  0.232918 -0.347867   \n",
      "3    0.329288  0.056234  0.070462  ... -0.079806  0.684198 -0.008719   \n",
      "4    0.188092  0.328318  0.135028  ...  0.158901  0.547356 -0.396600   \n",
      "5   -0.240085  0.016126 -0.200211  ... -0.530994 -0.126636 -0.310917   \n",
      "6    0.114251  0.354891  0.692024  ...  0.454429 -0.297692  0.255650   \n",
      "..        ...       ...       ...  ...       ...       ...       ...   \n",
      "290  0.389556  0.160001  0.018599  ...  0.346388  0.043968 -0.003694   \n",
      "291  0.167237 -0.308112  0.109226  ...  0.054719  0.552437 -0.131932   \n",
      "292  0.139739 -0.216207 -0.866127  ... -0.166528 -0.156718 -0.130389   \n",
      "293  0.576642  0.341574 -0.646888  ...  0.255552 -0.062749 -0.326428   \n",
      "294  0.213432 -0.357610 -0.205374  ... -0.170031  0.123104  0.524660   \n",
      "\n",
      "          288       289       290       291       292       293       294  \n",
      "2   -0.070253 -0.495793  0.125160  0.157260 -0.359224 -0.158616  0.042420  \n",
      "3   -0.041089 -0.352848  0.450687  0.383757  0.036293  0.011091  0.376775  \n",
      "4    0.242259 -0.457762 -0.235402  0.335712 -0.255834  0.178531 -0.021965  \n",
      "5    0.279746 -0.363668 -0.450344  0.225980  0.161450 -0.221737 -0.178982  \n",
      "6   -0.060616  0.523920  0.223754 -0.426012 -0.641699 -0.335482 -0.062401  \n",
      "..        ...       ...       ...       ...       ...       ...       ...  \n",
      "290 -0.770074  0.239610  1.000000  0.002066  0.358050  0.280404  0.220442  \n",
      "291  0.027519 -0.272535  0.002066  1.000000  0.030096 -0.156509  0.008494  \n",
      "292 -0.570536  0.080128  0.358050  0.030096  1.000000  0.637312  0.166843  \n",
      "293 -0.561926  0.252706  0.280404 -0.156509  0.637312  1.000000 -0.009471  \n",
      "294 -0.080757  0.145776  0.220442  0.008494  0.166843 -0.009471  1.000000  \n",
      "\n",
      "[293 rows x 293 columns]\n"
     ]
    }
   ],
   "source": [
    "def compute_user_similarity_matrix(model):\n",
    "\n",
    "    \n",
    "    import pandas as pd\n",
    "    from sklearn.metrics.pairwise import cosine_similarity\n",
    "\n",
    "\n",
    "    # Extract user factors\n",
    "    user_factors = model.userFactors.orderBy('id')\n",
    "\n",
    "    # Convert to Pandas DataFrame\n",
    "    user_factors_pd = user_factors.toPandas()\n",
    "\n",
    "    # Create a matrix of user factors\n",
    "    user_ids = user_factors_pd['id'].values\n",
    "    user_features = pd.DataFrame(user_factors_pd['features'].tolist(), index=user_ids)\n",
    "\n",
    "    # Compute cosine similarity\n",
    "    similarity_matrix = cosine_similarity(user_features)\n",
    "\n",
    "    # Convert the similarity matrix to a DataFrame for easier interpretation\n",
    "    user_similarity_df = pd.DataFrame(similarity_matrix, index=user_ids, columns=user_ids)\n",
    "\n",
    "    print(user_similarity_df)\n",
    "    return user_similarity_df\n",
    "\n",
    "user_similarity_df = compute_user_similarity_matrix(model)"
   ]
  },
  {
   "cell_type": "code",
   "execution_count": 16,
   "metadata": {},
   "outputs": [
    {
     "data": {
      "text/plain": [
       "1.0000000000000002"
      ]
     },
     "execution_count": 16,
     "metadata": {},
     "output_type": "execute_result"
    }
   ],
   "source": [
    "#example how to access the similarity between user with itself for  id 2 \n",
    "user_similarity_df.iloc[2][4]\n"
   ]
  },
  {
   "cell_type": "code",
   "execution_count": 17,
   "metadata": {},
   "outputs": [
    {
     "data": {
      "text/plain": [
       "1.0"
      ]
     },
     "execution_count": 17,
     "metadata": {},
     "output_type": "execute_result"
    }
   ],
   "source": [
    "user_similarity_df.iloc[292][294]"
   ]
  },
  {
   "cell_type": "markdown",
   "metadata": {},
   "source": [
    "### Extract similar and opposite users"
   ]
  },
  {
   "cell_type": "code",
   "execution_count": 18,
   "metadata": {},
   "outputs": [
    {
     "name": "stdout",
     "output_type": "stream",
     "text": [
      "Similar users of user with id: 294\n",
      "user id: 114,similarity score: 0.7231622139903068\n",
      "user id: 50,similarity score: 0.7407005325844904\n",
      "user id: 36,similarity score: 0.7454345503480371\n",
      "----------------------------------------------------------------------------------------------------\n",
      "Opposite users of user with id: 294\n",
      "user id: 98,similarity score: -0.8322027528008487\n",
      "user id: 93,similarity score: -0.7611366903602812\n",
      "user id: 210,similarity score: -0.683925147191811\n",
      "--------------------------------------------------------------------------------------------------------------------------------------------------------------------------------------------------------\n",
      "[(36, 0.7454345503480371), (50, 0.7407005325844904), (114, 0.7231622139903068)]\n",
      "[(98, -0.8322027528008487), (93, -0.7611366903602812), (210, -0.683925147191811)]\n"
     ]
    }
   ],
   "source": [
    "def extract_similar_and_opposite_users(user_similarity_df,interogated_user_id=294):\n",
    "\n",
    "    import numpy as np\n",
    "\n",
    "    #Note1: if you want to check if user ids are good, \n",
    "    #replace [-4:-1] with [-4:] and see if last user has a similarity score of aprox 1\n",
    "\n",
    "    #Note2: -2 and +2 comes from the fact that we use numpy methods for a pandas dataframe, \n",
    "    # dataframe row index starts from 0; column index from 2\n",
    "\n",
    "    user_similarity_scores_df =user_similarity_df.iloc[interogated_user_id-2]\n",
    "    similar_users = []\n",
    "\n",
    "    print(f'Similar users of user with id: {interogated_user_id}')\n",
    "\n",
    "    for id in np.argsort(user_similarity_scores_df)[-4:-1]:\n",
    "        user_id = id+2 #colum indexes start from 2 because lowest user_id value is 2\n",
    "        similarity_score = user_similarity_scores_df[user_id]\n",
    "\n",
    "        similar_users.append((user_id,similarity_score))\n",
    "        try:\n",
    "            print(f'user id: {user_id},similarity score: {similarity_score}')\n",
    "        except:\n",
    "            print(f'index error is {user_id} ')\n",
    "    \n",
    "    #reverse the list so that most similar user recs come first\n",
    "    similar_users.reverse()\n",
    "\n",
    "    print('-'*100)\n",
    "\n",
    "    opposite_users = []\n",
    "\n",
    "    print(f'Opposite users of user with id: {interogated_user_id}')\n",
    "    for id in np.argsort(user_similarity_scores_df)[:3]:\n",
    "        user_id = id+2\n",
    "        similarity_score = user_similarity_scores_df[user_id]\n",
    "        try:\n",
    "        \n",
    "            opposite_users.append((user_id,similarity_score))\n",
    "            print(f'user id: {user_id},similarity score: {similarity_score}')\n",
    "        except:\n",
    "            print(f'index error is {user_id} ')\n",
    "    print('-'*200)\n",
    "    print(similar_users)\n",
    "    print(opposite_users)\n",
    "\n",
    "    return (similar_users,opposite_users)\n",
    "\n",
    "similar_users,opposite_users = extract_similar_and_opposite_users(user_similarity_df)"
   ]
  },
  {
   "cell_type": "markdown",
   "metadata": {},
   "source": [
    "### Extract and filter recommendations based on similar and opposite users "
   ]
  },
  {
   "cell_type": "markdown",
   "metadata": {},
   "source": [
    "Similar users flow"
   ]
  },
  {
   "cell_type": "code",
   "execution_count": 19,
   "metadata": {},
   "outputs": [
    {
     "name": "stdout",
     "output_type": "stream",
     "text": [
      "user_id = 36\n",
      "similarity_score =0.7454345503480371\n",
      "[{'post_id': 3102, 'prediction': 0.9692136645317078}, {'post_id': 1909, 'prediction': 0.9673794507980347}, {'post_id': 1088, 'prediction': 0.9397230744361877}, {'post_id': 2574, 'prediction': 0.9280208945274353}, {'post_id': 3271, 'prediction': 0.9001338481903076}, {'post_id': 3462, 'prediction': 0.8703027367591858}, {'post_id': 2122, 'prediction': 0.8347253203392029}, {'post_id': 2493, 'prediction': 0.8104441165924072}, {'post_id': 1650, 'prediction': 0.7950367331504822}, {'post_id': 1599, 'prediction': 0.7686772346496582}, {'post_id': 2875, 'prediction': 0.7583449482917786}, {'post_id': 2895, 'prediction': 0.7471024990081787}, {'post_id': 3618, 'prediction': 0.7337385416030884}, {'post_id': 344, 'prediction': 0.7314099669456482}, {'post_id': 1688, 'prediction': 0.7276389598846436}, {'post_id': 2427, 'prediction': 0.702218770980835}, {'post_id': 2601, 'prediction': 0.6742368936538696}, {'post_id': 1252, 'prediction': 0.6559600830078125}, {'post_id': 2933, 'prediction': 0.6483324766159058}, {'post_id': 2704, 'prediction': 0.6477853059768677}, {'post_id': 1832, 'prediction': 0.6409136652946472}, {'post_id': 3510, 'prediction': 0.634443461894989}, {'post_id': 2124, 'prediction': 0.6318423748016357}, {'post_id': 1443, 'prediction': 0.6315874457359314}, {'post_id': 2668, 'prediction': 0.6312060356140137}, {'post_id': 1839, 'prediction': 0.6192703247070312}, {'post_id': 1948, 'prediction': 0.6184050440788269}, {'post_id': 2166, 'prediction': 0.6184050440788269}, {'post_id': 276, 'prediction': 0.6181493997573853}, {'post_id': 2682, 'prediction': 0.6104525327682495}]\n",
      "user_id = 50\n",
      "similarity_score =0.7407005325844904\n",
      "[{'post_id': 3102, 'prediction': 0.9560784101486206}, {'post_id': 1443, 'prediction': 0.9440999031066895}, {'post_id': 2322, 'prediction': 0.9422450065612793}, {'post_id': 1859, 'prediction': 0.9179294109344482}, {'post_id': 1617, 'prediction': 0.8536804914474487}, {'post_id': 738, 'prediction': 0.8347639441490173}, {'post_id': 1320, 'prediction': 0.8255173563957214}, {'post_id': 1605, 'prediction': 0.8243436813354492}, {'post_id': 114, 'prediction': 0.8186373114585876}, {'post_id': 3299, 'prediction': 0.7516374588012695}, {'post_id': 946, 'prediction': 0.7359737753868103}, {'post_id': 2493, 'prediction': 0.7229150533676147}, {'post_id': 1791, 'prediction': 0.7077454328536987}, {'post_id': 1252, 'prediction': 0.6926438808441162}, {'post_id': 2220, 'prediction': 0.6859360337257385}, {'post_id': 2277, 'prediction': 0.6571107506752014}, {'post_id': 3148, 'prediction': 0.6565876007080078}, {'post_id': 2043, 'prediction': 0.6550545692443848}, {'post_id': 2010, 'prediction': 0.6426141858100891}, {'post_id': 2851, 'prediction': 0.6241950392723083}, {'post_id': 1909, 'prediction': 0.6236376762390137}, {'post_id': 732, 'prediction': 0.6175792813301086}, {'post_id': 1387, 'prediction': 0.6160407066345215}, {'post_id': 2570, 'prediction': 0.6114212274551392}, {'post_id': 1084, 'prediction': 0.5871767997741699}, {'post_id': 2694, 'prediction': 0.5861204862594604}, {'post_id': 2190, 'prediction': 0.5797051191329956}, {'post_id': 1566, 'prediction': 0.575503945350647}, {'post_id': 1599, 'prediction': 0.5745124816894531}, {'post_id': 2191, 'prediction': 0.5542363524436951}]\n",
      "user_id = 114\n",
      "similarity_score =0.7231622139903068\n",
      "[{'post_id': 1791, 'prediction': 0.8642973899841309}, {'post_id': 114, 'prediction': 0.7826271057128906}, {'post_id': 2489, 'prediction': 0.7393628358840942}, {'post_id': 1088, 'prediction': 0.7205234169960022}, {'post_id': 1192, 'prediction': 0.6984996199607849}, {'post_id': 2563, 'prediction': 0.6949851512908936}, {'post_id': 3619, 'prediction': 0.6926919221878052}, {'post_id': 1605, 'prediction': 0.6824512481689453}, {'post_id': 2288, 'prediction': 0.660331130027771}, {'post_id': 2427, 'prediction': 0.6584151387214661}, {'post_id': 1252, 'prediction': 0.6507368683815002}, {'post_id': 2601, 'prediction': 0.6418488621711731}, {'post_id': 129, 'prediction': 0.6399750709533691}, {'post_id': 946, 'prediction': 0.6395072937011719}, {'post_id': 1351, 'prediction': 0.6333659887313843}, {'post_id': 344, 'prediction': 0.6164647340774536}, {'post_id': 1972, 'prediction': 0.6139222979545593}, {'post_id': 2613, 'prediction': 0.605712890625}, {'post_id': 1320, 'prediction': 0.5992092490196228}, {'post_id': 1279, 'prediction': 0.5989291071891785}, {'post_id': 2966, 'prediction': 0.5972267389297485}, {'post_id': 547, 'prediction': 0.5953567028045654}, {'post_id': 2700, 'prediction': 0.5880799293518066}, {'post_id': 2915, 'prediction': 0.5764927268028259}, {'post_id': 2998, 'prediction': 0.571474552154541}, {'post_id': 2493, 'prediction': 0.569652795791626}, {'post_id': 2231, 'prediction': 0.5637041926383972}, {'post_id': 2322, 'prediction': 0.5559426546096802}, {'post_id': 2841, 'prediction': 0.5549636483192444}, {'post_id': 1127, 'prediction': 0.5415189266204834}]\n"
     ]
    }
   ],
   "source": [
    "def generate_sim_recs(ratings_file, baseline_users,current_user_already_rated_posts,num_recs = 30,similar=True):\n",
    "\n",
    "    \n",
    "    num_users = len(baseline_users)\n",
    "    for index in range(num_users):\n",
    "        sim_user_id,similarity_score = baseline_users[index]\n",
    "\n",
    "        print(f'user_id = {sim_user_id}')\n",
    "        print(f'similarity_score ={similarity_score}')\n",
    "\n",
    "        sim_user_recs = generate_matrix_factorization_recs(ratings_file,user_id=sim_user_id,number_recs=num_recs,similar=similar)\n",
    "        current_user_recs = []\n",
    "        for sim_user_rec_struct in sim_user_recs:\n",
    "\n",
    "            if sim_user_rec_struct['post_id'] in current_user_already_rated_posts:\n",
    "                #print('found already rated post')\n",
    "                continue\n",
    "            else:\n",
    "                current_user_rec = {'post_id':sim_user_rec_struct['post_id'],\n",
    "                                    'prediction':sim_user_rec_struct['prediction'] * similarity_score,\n",
    "                                    'baseline_user_id':sim_user_id,\n",
    "                                    'similarity_score': similarity_score,\n",
    "                                    'baseline_user_prediction':sim_user_rec_struct['prediction'] }\n",
    "\n",
    "                current_user_recs.append(current_user_rec)\n",
    "    return current_user_recs\n",
    "similar_users_recs = generate_sim_recs(ratings_file=ratingsPysparkDf,baseline_users=similar_users,current_user_already_rated_posts=current_user_already_rated_posts)"
   ]
  },
  {
   "cell_type": "markdown",
   "metadata": {},
   "source": [
    "Opposite users flow"
   ]
  },
  {
   "cell_type": "code",
   "execution_count": 20,
   "metadata": {},
   "outputs": [
    {
     "name": "stdout",
     "output_type": "stream",
     "text": [
      "user_id = 98\n",
      "similarity_score =-0.8322027528008487\n",
      "[{'post_id': 1971, 'prediction': -1.0209319591522217}, {'post_id': 1443, 'prediction': -0.9009338021278381}, {'post_id': 2322, 'prediction': -0.8177556395530701}, {'post_id': 3102, 'prediction': -0.7578437328338623}, {'post_id': 3510, 'prediction': -0.7507975697517395}, {'post_id': 1599, 'prediction': -0.7448555827140808}, {'post_id': 344, 'prediction': -0.7424383759498596}, {'post_id': 2493, 'prediction': -0.7211824059486389}, {'post_id': 1909, 'prediction': -0.7153779864311218}, {'post_id': 3148, 'prediction': -0.696463942527771}, {'post_id': 2236, 'prediction': -0.6873149275779724}, {'post_id': 2335, 'prediction': -0.6669315695762634}, {'post_id': 620, 'prediction': -0.6666615009307861}, {'post_id': 2694, 'prediction': -0.6618669629096985}, {'post_id': 2601, 'prediction': -0.6427597999572754}, {'post_id': 1605, 'prediction': -0.6400316953659058}, {'post_id': 3462, 'prediction': -0.6363513469696045}, {'post_id': 3271, 'prediction': -0.6305645704269409}, {'post_id': 1088, 'prediction': -0.6170399188995361}, {'post_id': 1804, 'prediction': -0.609176754951477}, {'post_id': 3277, 'prediction': -0.6068184971809387}, {'post_id': 1859, 'prediction': -0.6047658324241638}, {'post_id': 2002, 'prediction': -0.5994114279747009}, {'post_id': 2017, 'prediction': -0.595073938369751}, {'post_id': 2220, 'prediction': -0.593809187412262}, {'post_id': 2190, 'prediction': -0.5882967710494995}, {'post_id': 1617, 'prediction': -0.5822095274925232}, {'post_id': 2107, 'prediction': -0.5802801251411438}, {'post_id': 277, 'prediction': -0.5697118639945984}, {'post_id': 617, 'prediction': -0.5664941072463989}]\n",
      "user_id = 93\n",
      "similarity_score =-0.7611366903602812\n",
      "[{'post_id': 1791, 'prediction': -1.049568772315979}, {'post_id': 1971, 'prediction': -0.8674337267875671}, {'post_id': 2309, 'prediction': -0.7532452344894409}, {'post_id': 694, 'prediction': -0.7210100889205933}, {'post_id': 344, 'prediction': -0.7030714154243469}, {'post_id': 2493, 'prediction': -0.650002121925354}, {'post_id': 2563, 'prediction': -0.6464312076568604}, {'post_id': 2427, 'prediction': -0.6458713412284851}, {'post_id': 2322, 'prediction': -0.6435825824737549}, {'post_id': 2220, 'prediction': -0.6195676326751709}, {'post_id': 563, 'prediction': -0.6133564114570618}, {'post_id': 341, 'prediction': -0.606224536895752}, {'post_id': 1511, 'prediction': -0.5914164185523987}, {'post_id': 129, 'prediction': -0.587832510471344}, {'post_id': 2335, 'prediction': -0.5852208733558655}, {'post_id': 1829, 'prediction': -0.5764879584312439}, {'post_id': 2480, 'prediction': -0.5695297122001648}, {'post_id': 114, 'prediction': -0.5687233805656433}, {'post_id': 1738, 'prediction': -0.5661575794219971}, {'post_id': 3713, 'prediction': -0.5619354844093323}, {'post_id': 1320, 'prediction': -0.5480896830558777}, {'post_id': 214, 'prediction': -0.5466985702514648}, {'post_id': 277, 'prediction': -0.5459423661231995}, {'post_id': 81, 'prediction': -0.5430019497871399}, {'post_id': 738, 'prediction': -0.5402503609657288}, {'post_id': 2737, 'prediction': -0.5391014218330383}, {'post_id': 2158, 'prediction': -0.535167396068573}, {'post_id': 2525, 'prediction': -0.5313546657562256}, {'post_id': 1091, 'prediction': -0.5270501375198364}, {'post_id': 3239, 'prediction': -0.524482011795044}]\n",
      "user_id = 210\n",
      "similarity_score =-0.683925147191811\n",
      "[{'post_id': 1971, 'prediction': -0.9716120362281799}, {'post_id': 1791, 'prediction': -0.9197993278503418}, {'post_id': 2083, 'prediction': -0.8406612873077393}, {'post_id': 620, 'prediction': -0.8351218104362488}, {'post_id': 114, 'prediction': -0.8343343734741211}, {'post_id': 2220, 'prediction': -0.8292053937911987}, {'post_id': 2322, 'prediction': -0.8143492937088013}, {'post_id': 563, 'prediction': -0.756192684173584}, {'post_id': 738, 'prediction': -0.747357189655304}, {'post_id': 857, 'prediction': -0.7427998185157776}, {'post_id': 1829, 'prediction': -0.7413445115089417}, {'post_id': 2190, 'prediction': -0.7323319911956787}, {'post_id': 1047, 'prediction': -0.7297732830047607}, {'post_id': 344, 'prediction': -0.7060452103614807}, {'post_id': 2277, 'prediction': -0.6704390048980713}, {'post_id': 3090, 'prediction': -0.6507192254066467}, {'post_id': 2002, 'prediction': -0.6206420660018921}, {'post_id': 3277, 'prediction': -0.6151590347290039}, {'post_id': 269, 'prediction': -0.6102426052093506}, {'post_id': 1909, 'prediction': -0.608359694480896}, {'post_id': 1320, 'prediction': -0.6075567007064819}, {'post_id': 129, 'prediction': -0.5997637510299683}, {'post_id': 1351, 'prediction': -0.5932274460792542}, {'post_id': 694, 'prediction': -0.5916424989700317}, {'post_id': 1184, 'prediction': -0.5912336707115173}, {'post_id': 617, 'prediction': -0.5891647338867188}, {'post_id': 426, 'prediction': -0.5888974666595459}, {'post_id': 636, 'prediction': -0.5864872932434082}, {'post_id': 3299, 'prediction': -0.5782163143157959}, {'post_id': 1804, 'prediction': -0.5766419768333435}]\n"
     ]
    }
   ],
   "source": [
    "opposite_users_recs = generate_sim_recs(ratings_file=ratingsPysparkDf,baseline_users=opposite_users,current_user_already_rated_posts=current_user_already_rated_posts,similar=False)"
   ]
  },
  {
   "cell_type": "markdown",
   "metadata": {},
   "source": [
    "Testing on real users logic "
   ]
  },
  {
   "cell_type": "markdown",
   "metadata": {},
   "source": [
    "matrix factorization"
   ]
  },
  {
   "cell_type": "code",
   "execution_count": 21,
   "metadata": {},
   "outputs": [
    {
     "name": "stdout",
     "output_type": "stream",
     "text": [
      "{'post_id': 1252, 'prediction': 1.025991439819336}\n",
      "{'post_id': 114, 'prediction': 0.5659663504961598, 'baseline_user_id': 114, 'similarity_score': 0.7231622139903068, 'baseline_user_prediction': 0.7826271057128906}\n",
      "{'post_id': 2083, 'prediction': 0.5749493946604028, 'baseline_user_id': 210, 'similarity_score': -0.683925147191811, 'baseline_user_prediction': -0.8406612873077393}\n"
     ]
    }
   ],
   "source": [
    "#Showing the 3 types of recomendations the user will encounter\n",
    "for rec in matrix_factorization_predictions:\n",
    "    print(rec)\n",
    "    break\n",
    "for rec in similar_users_recs:\n",
    "    print(rec)\n",
    "    break\n",
    "for rec in opposite_users_recs:\n",
    "    print(rec)\n",
    "    break"
   ]
  },
  {
   "cell_type": "code",
   "execution_count": 22,
   "metadata": {},
   "outputs": [
    {
     "name": "stdout",
     "output_type": "stream",
     "text": [
      "The future of transportation is based on self-driving, electrical and 5G-pow...\n",
      "https://www.reddit.com//r/changemyview/comments/d58liu/cmv_the_future_of_transportation_is_based_on/\n",
      "FDR was a terrible president, and it's hypocritical for democrats to use him...\n",
      "https://www.reddit.com//r/changemyview/comments/g05bve/cmv_fdr_was_a_terrible_president_and_its/\n",
      "Invalid post\n",
      "People who refuse to get a job should not be able to continue drawing from s...\n",
      "https://www.reddit.com//r/changemyview/comments/11run29/cmv_people_who_refuse_to_get_a_job_should_not_be/\n",
      "Invalid post\n",
      "I don't feel bad for people in Texas. I feel like this disaster was the pred...\n",
      "https://www.reddit.com//r/changemyview/comments/lw7x2a/cmv_i_dont_feel_bad_for_people_in_texas_i_feel/\n",
      "Invalid post\n",
      "America should be ruled by scholars with specified knowledge, and voting rights should be limited to relevantly educated citizens\n",
      "https://www.reddit.com/r/changemyview/comments/7nnndc/cmv_america_should_be_ruled_by_scholars_with/\n",
      "There is no reason why \"white\" and \"black\" should be any more or less accept...\n",
      "https://www.reddit.com//r/changemyview/comments/180mcyr/cmv_there_is_no_reason_why_white_and_black_should/\n",
      "Invalid post\n",
      "The “my body, my choice” slogan for pro-choice advocates does not benefit th...\n",
      "https://www.reddit.com//r/changemyview/comments/jb2gut/cmv_the_my_body_my_choice_slogan_for_prochoice/\n",
      "People Shouldn't Be Offended When Others Criticise/Debate Their Religion\n",
      "https://www.reddit.com//r/changemyview/comments/o6el0r/cmv_people_shouldnt_be_offended_when_others/\n",
      "Invalid post\n",
      "Race Should Not Be Considered Part Of A Person's Identity.\n",
      "https://www.reddit.com//r/changemyview/comments/r18li2/cmv_race_should_not_be_considered_part_of_a/\n",
      "Smartwatches are overrated, frivolous, and a bit gimmicky.\n",
      "https://www.reddit.com//r/changemyview/comments/985kyd/cmv_smartwatches_are_overrated_frivolous_and_a/\n"
     ]
    }
   ],
   "source": [
    "def test_matrix_factorization(recs=matrix_factorization_predictions,tolerance_limit=5):\n",
    "    import data_processing\n",
    "    num_rated_posts = 0\n",
    "    matrix_factorization_results = {}\n",
    "    for data in recs:\n",
    "        id = data['post_id']\n",
    "        res =data_processing.get_resource_info(id)\n",
    "        print(res['title'])\n",
    "        print(res['url'])\n",
    "        is_valid = \"\"\n",
    "        while is_valid.lower() !='y' and is_valid.lower() !='n':\n",
    "            is_valid = input('Does the url provide enough info for you to understand the basic ideas expressed in this post?(Y/N):')\n",
    "\n",
    "        if is_valid.lower() == 'y':\n",
    "      \n",
    "            feedback = collect_feedback('How much did this post make you see things trough a new perspective?:',\n",
    "                \"Input should be a continuous value between -1 and 1\",\n",
    "                inf_bound=-1,\n",
    "                sup_bound=1)\n",
    "            rec_score = float(feedback)\n",
    "            matrix_factorization_results[id]={'user_score': rec_score, 'predicted_score':data['prediction'],'validity':True}\n",
    "            num_rated_posts +=1\n",
    "        else:\n",
    "            print('Invalid post')\n",
    "            matrix_factorization_results[id]={'validity':False, 'predicted_score':data['prediction']}\n",
    "\n",
    "        current_user_already_rated_posts.add(id)\n",
    "        if num_rated_posts == tolerance_limit:\n",
    "            return matrix_factorization_results\n",
    "    return matrix_factorization_results\n",
    "\n",
    "\n",
    "matrix_factorization_results = test_matrix_factorization(matrix_factorization_predictions) "
   ]
  },
  {
   "cell_type": "code",
   "execution_count": 23,
   "metadata": {},
   "outputs": [
    {
     "data": {
      "text/plain": [
       "20"
      ]
     },
     "execution_count": 23,
     "metadata": {},
     "output_type": "execute_result"
    }
   ],
   "source": [
    "len(current_user_already_rated_posts)"
   ]
  },
  {
   "cell_type": "markdown",
   "metadata": {},
   "source": [
    "similar users"
   ]
  },
  {
   "cell_type": "code",
   "execution_count": 24,
   "metadata": {},
   "outputs": [
    {
     "name": "stdout",
     "output_type": "stream",
     "text": [
      "found already recommended post\n",
      "Every single person caught driving drunk should be immediately charged with ...\n",
      "https://www.reddit.com//r/changemyview/comments/n6bxfa/cmv_every_single_person_caught_driving_drunk/\n",
      "Valid input\n",
      "Piracy is wrong except possibly for college textbooks.\n",
      "https://www.reddit.com//r/changemyview/comments/clwldz/cmv_piracy_is_wrong_except_possibly_for_college/\n",
      "Invalid post\n",
      "field-specific research or practical work should be part of all four-year de...\n",
      "https://www.reddit.com//r/changemyview/comments/nymijb/cmv_fieldspecific_research_or_practical_work/\n",
      "Valid input\n",
      "found already recommended post\n",
      "found already recommended post\n",
      "all fines (or other monetary punishments) should be determined by your incom...\n",
      "https://www.reddit.com//r/changemyview/comments/minlt1/cmv_all_fines_or_other_monetary_punishments/\n",
      "Valid input\n",
      "found already recommended post\n",
      "found already recommended post\n",
      "Giving your child a hard-to-spell first name is vain and selfish because it places a lifelong burden on them.\n",
      "https://www.reddit.com/r/changemyview/comments/7pja9y/cmv_giving_your_child_a_hardtospell_first_name_is/\n",
      "Valid input\n",
      "Nominating a moderate or centrist candidate would be the worst option for th...\n",
      "https://www.reddit.com//r/changemyview/comments/axm5db/cmv_nominating_a_moderate_or_centrist_candidate/\n",
      "Valid input\n"
     ]
    }
   ],
   "source": [
    "import data_processing\n",
    "def test_user_similarity_recommendations(baseline_users_recs,tolerance_limit =5):\n",
    "    num_rated_posts = 0\n",
    "    baseline_user_recs_results = {}\n",
    "    for data in baseline_users_recs:\n",
    "        res_id = data['post_id']\n",
    "        if res_id in current_user_already_rated_posts:\n",
    "            print('found already recommended post')\n",
    "            continue\n",
    "        \n",
    "        res = data_processing.get_resource_info(res_id)\n",
    "        baseline_user_id = data['baseline_user_id']\n",
    "        print(res['title'])\n",
    "        print(res['url'])\n",
    "        is_valid = \"\"\n",
    "        while is_valid.lower() !='y' and is_valid.lower() !='n':\n",
    "            is_valid = input('Does the url provide enough info for you to understand the basic ideas expressed in this post?(Y/N):')\n",
    "        if is_valid.lower() == 'y':\n",
    "            print(\"Valid input\")\n",
    "            feedback = collect_feedback('How much did this post make you see things trough a new perspective?:',\n",
    "                \"Input should be a continuous value between -1 and 1\",\n",
    "                inf_bound=-1,\n",
    "                sup_bound=1)\n",
    "            rec_score = float(feedback)\n",
    "            baseline_user_recs_results[baseline_user_id]={'user_score': rec_score, 'rec_info':data,'validity':True}\n",
    "            num_rated_posts +=1\n",
    "        else:\n",
    "            print(\"Invalid post\")\n",
    "            baseline_user_recs_results[baseline_user_id]={'validity':False, 'rec_info':data}\n",
    "\n",
    "        current_user_already_rated_posts.add(res_id)\n",
    "        if num_rated_posts==tolerance_limit:\n",
    "            return baseline_user_recs_results\n",
    "    return baseline_user_recs_results\n",
    "\n",
    "\n",
    "similar_user_recs_results = test_user_similarity_recommendations(similar_users_recs)"
   ]
  },
  {
   "cell_type": "code",
   "execution_count": 25,
   "metadata": {},
   "outputs": [
    {
     "data": {
      "text/plain": [
       "26"
      ]
     },
     "execution_count": 25,
     "metadata": {},
     "output_type": "execute_result"
    }
   ],
   "source": [
    "len(current_user_already_rated_posts)"
   ]
  },
  {
   "cell_type": "markdown",
   "metadata": {},
   "source": [
    "Opposite users"
   ]
  },
  {
   "cell_type": "code",
   "execution_count": 26,
   "metadata": {},
   "outputs": [
    {
     "name": "stdout",
     "output_type": "stream",
     "text": [
      "We shouldn't worry if Trump will refuse the results of the election, we shou...\n",
      "https://www.reddit.com//r/changemyview/comments/jnh757/cmv_we_shouldnt_worry_if_trump_will_refuse_the/\n",
      "Valid input\n",
      "found already recommended post\n",
      "found already recommended post\n",
      "found already recommended post\n",
      "Religions never solved the problem of evil and Epicurus argument holds fast.\n",
      "https://www.reddit.com//r/changemyview/comments/920s2w/cmv_religions_never_solved_the_problem_of_evil/\n",
      "Invalid post\n",
      "When I have a kid, I will not tell them that Santa (or any other mythical figure) is real\n",
      "https://www.reddit.com//r/changemyview/comments/9s71jh/cmv_when_i_have_a_kid_i_will_not_tell_them_that/\n",
      "Valid input\n",
      "Input should be a continuous value between -1 and 1\n",
      "The space industry should be nationalized\n",
      "https://www.reddit.com//r/changemyview/comments/acm689/cmv_the_space_industry_should_be_nationalized/\n",
      "Valid input\n",
      "The changelings/shapeshifters on Star Trek make no sense from a biological s...\n",
      "https://www.reddit.com//r/changemyview/comments/ho5fbg/cmv_the_changelingsshapeshifters_on_star_trek/\n",
      "Valid input\n",
      "lavabending is objectively the best form of bending (and air bending the wor...\n",
      "https://www.reddit.com//r/changemyview/comments/ki8za8/cmv_lavabending_is_objectively_the_best_form_of/\n",
      "Valid input\n"
     ]
    }
   ],
   "source": [
    "opposite_user_recs_results = test_user_similarity_recommendations(opposite_users_recs)"
   ]
  },
  {
   "cell_type": "code",
   "execution_count": 27,
   "metadata": {},
   "outputs": [
    {
     "data": {
      "text/plain": [
       "32"
      ]
     },
     "execution_count": 27,
     "metadata": {},
     "output_type": "execute_result"
    }
   ],
   "source": [
    "len(current_user_already_rated_posts)"
   ]
  },
  {
   "cell_type": "markdown",
   "metadata": {},
   "source": [
    "saving results\n"
   ]
  },
  {
   "cell_type": "code",
   "execution_count": 38,
   "metadata": {},
   "outputs": [
    {
     "name": "stdout",
     "output_type": "stream",
     "text": [
      "{247: {'user_score': 1.0, 'rec_info': {'post_id': 969, 'prediction': 0.40599652016496535, 'baseline_user_id': 247, 'similarity_score': -0.6051832605515592, 'baseline_user_prediction': -0.6708654165267944}, 'validity': True}}\n",
      "{61: {'user_score': 1.0, 'rec_info': {'post_id': 1280, 'prediction': 0.44513292832056395, 'baseline_user_id': 61, 'similarity_score': 0.6957035138603461, 'baseline_user_prediction': 0.6398313641548157}, 'validity': True}}\n",
      "{1688: {'user_score': 1.0, 'predicted_score': 0.9327794313430786, 'validity': True}, 3602: {'user_score': 1.0, 'predicted_score': 0.8363574743270874, 'validity': True}, 735: {'user_score': 1.0, 'predicted_score': 0.8085615634918213, 'validity': True}, 1713: {'user_score': 1.0, 'predicted_score': 0.7815169095993042, 'validity': True}, 2860: {'user_score': 1.0, 'predicted_score': 0.7676966190338135, 'validity': True}}\n",
      "1\n"
     ]
    }
   ],
   "source": [
    "import json\n",
    "\n",
    "print(opposite_user_recs_results)\n",
    "print(similar_user_recs_results)\n",
    "print(matrix_factorization_results)\n",
    "print(name)\n",
    "\n",
    "\n"
   ]
  },
  {
   "cell_type": "code",
   "execution_count": 39,
   "metadata": {},
   "outputs": [],
   "source": [
    "import os \n",
    "\n",
    "RESULTS_FOLDER_LOCATION = \"collaborative_filtering_results\"\n",
    "results_file_location = os.path.join(RESULTS_FOLDER_LOCATION,name+'_collaborative_filtering.json')\n",
    "\n",
    "results_file = open(results_file_location,'w')\n",
    "\n",
    "final_user_result={\n",
    "    'name': name,\n",
    "    'id':user_id,\n",
    "    'matrix_factorization':matrix_factorization_results,\n",
    "    'similar_users':similar_user_recs_results,\n",
    "    'opposite_users':opposite_user_recs_results\n",
    "}\n",
    "json.dump(final_user_result,results_file)\n"
   ]
  },
  {
   "cell_type": "markdown",
   "metadata": {},
   "source": [
    "loading results"
   ]
  },
  {
   "cell_type": "code",
   "execution_count": 40,
   "metadata": {},
   "outputs": [
    {
     "name": "stdout",
     "output_type": "stream",
     "text": [
      "{'name': '1', 'id': 294, 'matrix_factorization': {'1688': {'user_score': 1.0, 'predicted_score': 0.9327794313430786, 'validity': True}, '3602': {'user_score': 1.0, 'predicted_score': 0.8363574743270874, 'validity': True}, '735': {'user_score': 1.0, 'predicted_score': 0.8085615634918213, 'validity': True}, '1713': {'user_score': 1.0, 'predicted_score': 0.7815169095993042, 'validity': True}, '2860': {'user_score': 1.0, 'predicted_score': 0.7676966190338135, 'validity': True}}, 'similar_users': {'61': {'user_score': 1.0, 'rec_info': {'post_id': 1280, 'prediction': 0.44513292832056395, 'baseline_user_id': 61, 'similarity_score': 0.6957035138603461, 'baseline_user_prediction': 0.6398313641548157}, 'validity': True}}, 'opposite_users': {'247': {'user_score': 1.0, 'rec_info': {'post_id': 969, 'prediction': 0.40599652016496535, 'baseline_user_id': 247, 'similarity_score': -0.6051832605515592, 'baseline_user_prediction': -0.6708654165267944}, 'validity': True}}}\n"
     ]
    }
   ],
   "source": [
    "results_file = open(results_file_location,'r')\n",
    "\n",
    "print(json.load(results_file))"
   ]
  }
 ],
 "metadata": {
  "kernelspec": {
   "display_name": "Python 3",
   "language": "python",
   "name": "python3"
  },
  "language_info": {
   "codemirror_mode": {
    "name": "ipython",
    "version": 3
   },
   "file_extension": ".py",
   "mimetype": "text/x-python",
   "name": "python",
   "nbconvert_exporter": "python",
   "pygments_lexer": "ipython3",
   "version": "3.10.0"
  }
 },
 "nbformat": 4,
 "nbformat_minor": 2
}
